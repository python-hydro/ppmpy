{
 "cells": [
  {
   "cell_type": "markdown",
   "id": "bbc5dd1e-820a-4dba-a509-bbaf28a53d72",
   "metadata": {},
   "source": [
    "# PPM reconstruction"
   ]
  },
  {
   "cell_type": "code",
   "execution_count": 1,
   "id": "66857cb5-cfed-4106-8585-39fdbabcbdd8",
   "metadata": {},
   "outputs": [],
   "source": [
    "import numpy as np\n",
    "import matplotlib.pyplot as plt"
   ]
  },
  {
   "cell_type": "markdown",
   "id": "3401fef8-d90c-4be0-bf49-82f853d5305f",
   "metadata": {},
   "source": [
    "A simple 1D finite-volume grid class.  This includes some methods that allow us to plot the grid."
   ]
  },
  {
   "cell_type": "code",
   "execution_count": 253,
   "id": "f999bb37-8d14-4eda-b113-d44fa803189e",
   "metadata": {},
   "outputs": [],
   "source": [
    "class FVGrid:\n",
    "    \"\"\"The main finite-volume grid class for holding our fluid state.\"\"\"\n",
    "    \n",
    "    def __init__(self, nx, ng, xmin=0.0, xmax=1.0, vars=None):\n",
    "\n",
    "        self.xmin = xmin\n",
    "        self.xmax = xmax\n",
    "        self.ng = ng\n",
    "        self.nx = nx\n",
    "\n",
    "        self.lo = ng\n",
    "        self.hi = ng+nx-1\n",
    "\n",
    "        # physical coords -- cell-centered\n",
    "        self.dx = (xmax - xmin)/(nx)\n",
    "        self.xl = xmin + (np.arange(nx+2*ng)-ng)*self.dx\n",
    "        self.xr = xmin + (np.arange(nx+2*ng)-ng+1.0)*self.dx\n",
    "        self.x = xmin + (np.arange(nx+2*ng)-ng+0.5)*self.dx\n",
    "\n",
    "    def scratch_array(self, nc=1):\n",
    "        \"\"\" return a scratch array dimensioned for our grid \"\"\"\n",
    "        return np.squeeze(np.zeros((self.nx+2*self.ng, nc), dtype=np.float64))\n",
    "\n",
    "    def fill_BCs(self, atmp):\n",
    "        \"\"\" fill all ghost cells with zero-gradient boundary conditions \"\"\"\n",
    "        if atmp.ndim == 2:\n",
    "            for n in range(atmp.shape[-1]):\n",
    "                atmp[0:self.lo, n] = atmp[self.lo, n]\n",
    "                atmp[self.hi+1:, n] = atmp[self.hi, n]            \n",
    "        else:\n",
    "            atmp[0:self.lo] = atmp[self.lo]\n",
    "            atmp[self.hi+1:] = atmp[self.hi]\n",
    "\n",
    "    def draw(self):\n",
    "        fig, ax = plt.subplots()\n",
    "        \n",
    "        nstart = self.lo - self.ng\n",
    "        nstop = self.hi + self.ng\n",
    "\n",
    "        ax.plot([self.xl[nstart], self.xr[nstop]], [0, 0], color=\"0.25\", lw=2)\n",
    "\n",
    "        # draw edges\n",
    "\n",
    "        for n in range(nstart, nstop+1):\n",
    "            if n == self.lo:\n",
    "                ax.plot([self.xl[n], self.xl[n]], [0, 1.0], color=\"0.25\", lw=4)\n",
    "            else:\n",
    "                ax.plot([self.xl[n], self.xl[n]], [0, 1.0], color=\"0.25\", lw=2)\n",
    "\n",
    "            if n == self.hi:\n",
    "                ax.plot([self.xr[n], self.xr[n]], [0, 1.0], color=\"0.25\", lw=4)\n",
    "\n",
    "        ax.plot([self.xr[nstop], self.xr[nstop]], [0, 1.0], color=\"0.25\", lw=2)\n",
    "        \n",
    "        fig.set_size_inches((self.nx + 2 * self.ng), 1)\n",
    "        ax.axis(\"off\")\n",
    "        return fig, ax"
   ]
  },
  {
   "cell_type": "markdown",
   "id": "03b4f21d-0919-450a-88a9-d8fa0b43ecf1",
   "metadata": {},
   "source": [
    "A class to manage PPM reconstruction.  This will also allow us to visualize the parabola\n",
    "on the plot created by the FVGrid class."
   ]
  },
  {
   "cell_type": "code",
   "execution_count": 254,
   "id": "1a4f2a7c-7af2-40ba-9cf4-1047b76977e1",
   "metadata": {},
   "outputs": [],
   "source": [
    "class PPMInterpolant:\n",
    "    \"\"\"Given a fluid variable a defined on the FVGrid grid, perform\n",
    "    the PPM reconstruction\"\"\"\n",
    "    def __init__(self, grid, a, *, limit=True):\n",
    "        self.grid = grid\n",
    "        assert(grid.ng >= 3)\n",
    "        \n",
    "        self.a = a\n",
    "        self.limit = limit\n",
    "\n",
    "        self.aint = grid.scratch_array()\n",
    "        \n",
    "        self.ap = grid.scratch_array()\n",
    "        self.am = grid.scratch_array()\n",
    "        self.a6 = grid.scratch_array()\n",
    "\n",
    "    def construct_parabola(self):\n",
    "        # first do the cubic interpolation in zones in all but the last ghost cell\n",
    "        # we will be getting a_{i+1/2}\n",
    "\n",
    "        # the state will initially be defined on ib:ie+1\n",
    "        ib = self.grid.lo-2\n",
    "        ie = self.grid.hi+1\n",
    "        \n",
    "        da0 = self.grid.scratch_array()\n",
    "        dap = self.grid.scratch_array()\n",
    "\n",
    "        # 1/2 (a_{i+1} - a_{i-1})\n",
    "        da0[ib:ie+1] = 0.5 * (self.a[ib+1:ie+2] - self.a[ib-1:ie])\n",
    "\n",
    "        # 1/2 (a_{i+2} - a_{i})\n",
    "        dap[ib:ie+1] = 0.5 * (self.a[ib+2:ie+3] - self.a[ib:ie+1])\n",
    "\n",
    "        if self.limit:\n",
    "            # van-Leer slopes\n",
    "            dl = self.grid.scratch_array()\n",
    "            dr = self.grid.scratch_array()\n",
    "            dr[ib:ie+1] = self.a[ib+1:ie+2] - self.a[ib:ie+1]\n",
    "            dl[ib:ie+1] = self.a[ib:ie+1] - self.a[ib-1:ie]\n",
    "\n",
    "            da0 = np.where(dl * dr > 0,\n",
    "                           np.sign(da0) * np.minimum(np.abs(da0),\n",
    "                                                     2.0 * np.minimum(np.abs(dl),\n",
    "                                                                      np.abs(dr))),\n",
    "                           0.0)\n",
    "\n",
    "            dl[:] = dr[:]\n",
    "            dr[ib:ie+1] = self.a[ib+2:ie+3] - self.a[ib+1:ie+2]\n",
    "\n",
    "            dap = np.where(dl * dr > 0,\n",
    "                           np.sign(dap) * np.minimum(np.abs(dap),\n",
    "                                                     2.0 * np.minimum(np.abs(dl),\n",
    "                                                                      np.abs(dr))),\n",
    "                           0.0)\n",
    "\n",
    "        # cubic\n",
    "        self.aint[ib:ie+1] = 0.5 * (self.a[ib:ie+1] + self.a[ib+1:ie+2]) - \\\n",
    "                             (1.0 / 6.0) * (dap[ib:ie+1] - da0[ib:ie+1])\n",
    "\n",
    "        # now the parabola coefficients\n",
    "        self.ap[:] = self.aint[:]\n",
    "        self.am[1:] = self.ap[:-1]\n",
    "\n",
    "        if self.limit:\n",
    "            \n",
    "            # now we work on each zone + 1 ghost cell and limit the parabola\n",
    "            # coefficients as needed.  At the end, this will be valid on\n",
    "            # lo-1:hi+2\n",
    "\n",
    "            test = (self.ap - self.a) * (self.a - self.am) < 0\n",
    "\n",
    "            testm = (self.ap - self.am) * (self.a - 0.5 * (self.am + self.ap)) > \\\n",
    "                    (self.ap - self.am)**2 / 6\n",
    "            self.am[:] = np.where(test, self.a, np.where(testm, 3.0*self.a - 2.0*self.ap, self.am))\n",
    "\n",
    "            testp = -(self.ap - self.am)**2 / 6 > \\\n",
    "                    (self.ap - self.am) * (self.a - 0.5 * (self.am + self.ap))\n",
    "            self.ap[:] = np.where(test, self.a, np.where(testp, 3.0*self.a - 2.0*self.am, self.ap))\n",
    "\n",
    "        self.a6 = 6.0 * self.a - 3.0 * (self.am + self.ap)\n",
    "\n",
    "    def draw_parabola(self, ax, *, scale=None):\n",
    "        if scale is None:\n",
    "            scale = np.max(self.a)\n",
    "            \n",
    "        for n in range(self.grid.lo-1, self.grid.hi+2):\n",
    "            x = np.linspace(self.grid.xl[n], self.grid.xr[n], 50) \n",
    "            xi = (x - self.grid.xl[n]) / self.grid.dx\n",
    "            a = self.am[n] + xi*(self.ap[n] - self.am[n] + self.a6[n] * (1.0-xi))\n",
    "            ax.plot(x, a/scale, color=\"C1\")\n",
    "\n",
    "    def mark_cubic(self, ax, *, scale=None):\n",
    "        if scale is None:\n",
    "            scale = np.max(self.a)\n",
    "            ax.scatter(self.grid.xr[self.grid.lo-2:self.grid.hi+2],\n",
    "                       self.aint[self.grid.lo-2:self.grid.hi+2] / scale,\n",
    "                       marker=\"x\", zorder=10)"
   ]
  },
  {
   "cell_type": "markdown",
   "id": "5e982768-7fad-498d-b823-a19779872d29",
   "metadata": {},
   "source": [
    "An example grid with 4 cells + 3 ghost cells"
   ]
  },
  {
   "cell_type": "code",
   "execution_count": 261,
   "id": "3783299e-ebb2-4bf6-94ce-7603510ee2d1",
   "metadata": {},
   "outputs": [],
   "source": [
    "g = FVGrid(4, 3)"
   ]
  },
  {
   "cell_type": "code",
   "execution_count": 262,
   "id": "2e29f7b8-4724-48d7-ae34-9f3339b3c366",
   "metadata": {},
   "outputs": [
    {
     "data": {
      "image/png": "[encoded data removed]",
      "text/plain": [
       "<Figure size 1000x100 with 1 Axes>"
      ]
     },
     "metadata": {},
     "output_type": "display_data"
    }
   ],
   "source": [
    "fig, ax = g.draw()"
   ]
  },
  {
   "cell_type": "markdown",
   "id": "a3ba43eb-c28c-4456-a9df-aaba1e6e0f8e",
   "metadata": {},
   "source": [
    "Let's create data on the grid (including the ghost cells) and visualize the PPM reconstruction."
   ]
  },
  {
   "cell_type": "code",
   "execution_count": 263,
   "id": "2e1e2d21-f74b-4932-b885-46fde02a9c79",
   "metadata": {},
   "outputs": [
    {
     "data": {
      "text/plain": [
       "array([0.3 , 1.  , 0.9 , 0.8 , 0.25, 0.1 , 0.5 , 0.55, 0.25, 0.1 ])"
      ]
     },
     "execution_count": 263,
     "metadata": {},
     "output_type": "execute_result"
    }
   ],
   "source": [
    "a = g.scratch_array()\n",
    "a[:] = [0.3, 1.0, 0.9, 0.8, 0.25, 0.1, 0.5, 0.55, 0.25, 0.1]\n",
    "#g.fill_BCs(a)\n",
    "a"
   ]
  },
  {
   "cell_type": "code",
   "execution_count": 264,
   "id": "c849ce6f-567a-45de-9409-3af8d5cae97a",
   "metadata": {},
   "outputs": [],
   "source": [
    "ppm = PPMInterpolant(g, a)"
   ]
  },
  {
   "cell_type": "code",
   "execution_count": 265,
   "id": "077f83ec-63e6-4ec3-a9da-d0f5ee17faa3",
   "metadata": {},
   "outputs": [],
   "source": [
    "ppm.construct_parabola()"
   ]
  },
  {
   "cell_type": "code",
   "execution_count": 266,
   "id": "8bf9fde3-5e6b-453f-877d-563b3b6dd16d",
   "metadata": {},
   "outputs": [
    {
     "data": {
      "image/png": "[encoded data removed]",
      "text/plain": [
       "<Figure size 1000x100 with 1 Axes>"
      ]
     },
     "execution_count": 266,
     "metadata": {},
     "output_type": "execute_result"
    }
   ],
   "source": [
    "ppm.draw_parabola(ax)\n",
    "ppm.mark_cubic(ax)\n",
    "fig"
   ]
  },
  {
   "cell_type": "code",
   "execution_count": null,
   "id": "58f9f768-c031-4487-a9aa-f58d0d4d760a",
   "metadata": {},
   "outputs": [],
   "source": []
  },
  {
   "cell_type": "code",
   "execution_count": null,
   "id": "591feaf3-811a-4ea1-98a1-efb274c4a211",
   "metadata": {},
   "outputs": [],
   "source": []
  },
  {
   "cell_type": "code",
   "execution_count": null,
   "id": "89df5392-f5ad-40a0-a44c-95176e310fcb",
   "metadata": {},
   "outputs": [],
   "source": []
  }
 ],
 "metadata": {
  "kernelspec": {
   "display_name": "Python 3 (ipykernel)",
   "language": "python",
   "name": "python3"
  },
  "language_info": {
   "codemirror_mode": {
    "name": "ipython",
    "version": 3
   },
   "file_extension": ".py",
   "mimetype": "text/x-python",
   "name": "python",
   "nbconvert_exporter": "python",
   "pygments_lexer": "ipython3",
   "version": "3.12.4"
  }
 },
 "nbformat": 4,
 "nbformat_minor": 5
}
