{
 "cells": [
  {
   "cell_type": "markdown",
   "id": "c37ac15a-66a3-452b-8d2f-1e02daafe7cc",
   "metadata": {},
   "source": [
    "# HSE Convergence"
   ]
  },
  {
   "cell_type": "markdown",
   "id": "b4ee377c-72a0-4afb-98bc-87a01a8fd382",
   "metadata": {},
   "source": [
    "Here we explore the convergence of the HSE well-balanced method.\n",
    "\n",
    "We use reflecting boundary conditions and the `HSEPPMInterpolant` reconstruction of the pressure."
   ]
  },
  {
   "cell_type": "code",
   "execution_count": 1,
   "id": "e9274186-dea7-4254-a5e1-1c10e4ede36c",
   "metadata": {},
   "outputs": [],
   "source": [
    "from ppmpy.euler import Euler\n",
    "from ppmpy.gravity import constant_gravity\n",
    "from ppmpy.initial_conditions import hse\n",
    "\n",
    "import matplotlib.pyplot as plt\n",
    "import numpy as np"
   ]
  },
  {
   "cell_type": "markdown",
   "id": "bf604c93-4360-4431-a3f0-64a098aa8d4a",
   "metadata": {},
   "source": [
    "## Convergence testing with HSE reconstruction"
   ]
  },
  {
   "cell_type": "code",
   "execution_count": 2,
   "id": "80932eef-a2f0-4c5b-b267-06255b543d56",
   "metadata": {},
   "outputs": [],
   "source": [
    "params = {\"base_density\": 1.0, \"base_pressure\": 1.0, \"g_const\": -1.0}"
   ]
  },
  {
   "cell_type": "code",
   "execution_count": 3,
   "id": "898eb0ed-1bec-41f0-9431-45b2ad4c5787",
   "metadata": {},
   "outputs": [],
   "source": [
    "simulations = []\n",
    "for nx in [32, 64, 128, 256, 512]:\n",
    "    dt = 0.015625 * (32 / nx)\n",
    "    e = Euler(nx, 0.5, fixed_dt=dt, init_cond=hse, grav_func=constant_gravity,\n",
    "              use_limiting=True, use_flattening=True,\n",
    "              use_hse_reconstruction=True,\n",
    "              bc_left_type=\"reflect\", bc_right_type=\"reflect\", params=params)\n",
    "    e.evolve(0.5, verbose=False)\n",
    "    simulations.append(e)"
   ]
  },
  {
   "cell_type": "markdown",
   "id": "2aa51975-6eff-4d44-8bd6-765fa150ceff",
   "metadata": {},
   "source": [
    "Richardson convergence testing--compare adjacent resolution runs."
   ]
  },
  {
   "cell_type": "code",
   "execution_count": 4,
   "id": "313edca0-aa4c-4dac-ab14-7a6cff0455bd",
   "metadata": {},
   "outputs": [],
   "source": [
    "from itertools import pairwise\n",
    "ivar = 0"
   ]
  },
  {
   "cell_type": "code",
   "execution_count": 5,
   "id": "6935138d-852d-4d56-ac43-4960cd4f4b6b",
   "metadata": {
    "scrolled": true
   },
   "outputs": [
    {
     "name": "stdout",
     "output_type": "stream",
     "text": [
      " 64 ->  32 : 3.6537626526206627e-05\n",
      "128 ->  64 : 9.208712352368843e-06\n",
      "256 -> 128 : 2.3117807006939062e-06\n",
      "512 -> 256 : 5.794725187474326e-07\n"
     ]
    }
   ],
   "source": [
    "for coarse, fine in pairwise(simulations):\n",
    "    _, cd = fine.grid.coarsen(fine.U[:, ivar])\n",
    "    err = coarse.grid.norm(coarse.U[:, ivar] - cd)\n",
    "    print(f\"{fine.grid.nx:3d} -> {coarse.grid.nx:3d} : {err}\")"
   ]
  },
  {
   "cell_type": "markdown",
   "id": "33af9113-8f88-4570-9d84-e6ff78229ba3",
   "metadata": {},
   "source": [
    "Compare to the initial conditions.  If we were in HSE, then the density should be the same as it was originally."
   ]
  },
  {
   "cell_type": "code",
   "execution_count": 6,
   "id": "66950c33-44e4-4975-9e96-c569396b8f5c",
   "metadata": {},
   "outputs": [
    {
     "name": "stdout",
     "output_type": "stream",
     "text": [
      " 32 : 1.5642584519965996e-05\n",
      " 64 : 3.955429302849995e-06\n",
      "128 : 9.94413687738086e-07\n",
      "256 : 2.5011318512955466e-07\n",
      "512 : 6.259701007232347e-08\n"
     ]
    }
   ],
   "source": [
    "for s in simulations:\n",
    "    print(f\"{s.grid.nx:3d} : {s.grid.norm(s.U_init[:, ivar] - s.U[:, ivar]) }\")"
   ]
  },
  {
   "cell_type": "markdown",
   "id": "f4ae9e92-a5b2-41cf-b38b-314b83b676b3",
   "metadata": {},
   "source": [
    "Visualize the atmosphere at the start and end."
   ]
  },
  {
   "cell_type": "code",
   "execution_count": 7,
   "id": "d4e9df43-d976-4e00-b99b-213f52b60839",
   "metadata": {},
   "outputs": [
    {
     "data": {
      "text/plain": [
       "[<matplotlib.lines.Line2D at 0x7fbde5466cc0>]"
      ]
     },
     "execution_count": 7,
     "metadata": {},
     "output_type": "execute_result"
    },
    {
     "data": {
      "image/png": "[encoded data removed]",
      "text/plain": [
       "<Figure size 640x480 with 1 Axes>"
      ]
     },
     "metadata": {},
     "output_type": "display_data"
    }
   ],
   "source": [
    "s = simulations[0]\n",
    "\n",
    "fig, ax = plt.subplots()\n",
    "ax.plot(s.grid.x[s.grid.lo:s.grid.hi+1], s.U_init[s.grid.lo:s.grid.hi+1, ivar], marker=\"o\")\n",
    "ax.plot(s.grid.x[s.grid.lo:s.grid.hi+1], s.U[s.grid.lo:s.grid.hi+1, ivar], marker=\"x\")"
   ]
  },
  {
   "cell_type": "markdown",
   "id": "a519e449-59f3-45f0-af79-8beaac6acdaa",
   "metadata": {},
   "source": [
    "## Convergence of the well-balanced method"
   ]
  },
  {
   "cell_type": "markdown",
   "id": "48b3f3e3-334c-4b69-b5d7-0506319e2cab",
   "metadata": {},
   "source": [
    "Now we do the same for the reconstruction that does the characteristic tracing only on\n",
    "the pressure perturbation."
   ]
  },
  {
   "cell_type": "code",
   "execution_count": 8,
   "id": "404610cf-5d8e-4e43-a637-29c817d55983",
   "metadata": {},
   "outputs": [],
   "source": [
    "simulations = []\n",
    "for nx in [32, 64, 128, 256, 512]:\n",
    "    dt = 0.015625 * (32 / nx)\n",
    "    e = Euler(nx, 0.5, fixed_dt=dt, init_cond=hse, grav_func=constant_gravity,\n",
    "              use_limiting=True, use_flattening=True,\n",
    "              use_hse_reconstruction=True, hse_as_perturbation=True,\n",
    "              bc_left_type=\"reflect\", bc_right_type=\"reflect\", params=params)\n",
    "    e.evolve(0.5, verbose=False)\n",
    "    simulations.append(e)"
   ]
  },
  {
   "cell_type": "code",
   "execution_count": 9,
   "id": "f23c236b-e6b8-4980-bfa1-d261a19b4900",
   "metadata": {},
   "outputs": [
    {
     "name": "stdout",
     "output_type": "stream",
     "text": [
      " 64 ->  32 : 3.4760439589959424e-05\n",
      "128 ->  64 : 8.776428605358436e-06\n",
      "256 -> 128 : 2.204958615561335e-06\n",
      "512 -> 256 : 5.525999756839299e-07\n"
     ]
    }
   ],
   "source": [
    "for coarse, fine in pairwise(simulations):\n",
    "    _, cd = fine.grid.coarsen(fine.U[:, ivar])\n",
    "    err = coarse.grid.norm(coarse.U[:, ivar] - cd)\n",
    "    print(f\"{fine.grid.nx:3d} -> {coarse.grid.nx:3d} : {err}\")"
   ]
  },
  {
   "cell_type": "markdown",
   "id": "6243e975-5d5a-4ff2-98eb-3305a4fdecb8",
   "metadata": {},
   "source": [
    "As expected, this also converges 2nd-order."
   ]
  }
 ],
 "metadata": {
  "kernelspec": {
   "display_name": "Python 3 (ipykernel)",
   "language": "python",
   "name": "python3"
  },
  "language_info": {
   "codemirror_mode": {
    "name": "ipython",
    "version": 3
   },
   "file_extension": ".py",
   "mimetype": "text/x-python",
   "name": "python",
   "nbconvert_exporter": "python",
   "pygments_lexer": "ipython3",
   "version": "3.12.4"
  }
 },
 "nbformat": 4,
 "nbformat_minor": 5
}
