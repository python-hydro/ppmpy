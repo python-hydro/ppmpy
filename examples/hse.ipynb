{
 "cells": [
  {
   "cell_type": "markdown",
   "id": "c37ac15a-66a3-452b-8d2f-1e02daafe7cc",
   "metadata": {},
   "source": [
    "# Hydrostatic equilibrum"
   ]
  },
  {
   "cell_type": "code",
   "execution_count": 1,
   "id": "e9274186-dea7-4254-a5e1-1c10e4ede36c",
   "metadata": {},
   "outputs": [],
   "source": [
    "from ppmpy.euler import Euler\n",
    "from ppmpy.gravity import constant_gravity\n",
    "import numpy as np"
   ]
  },
  {
   "cell_type": "code",
   "execution_count": 2,
   "id": "03173b37-c7b3-450d-9eb3-3aed77cca8c1",
   "metadata": {},
   "outputs": [],
   "source": [
    "def hse(grid, v, gamma, U, params):\n",
    "    rho_base = params[\"base_density\"]\n",
    "    pres_base = params[\"base_pressure\"]\n",
    "    g = params[\"g_const\"]\n",
    "    \n",
    "    # we will assume we are isentropic and constant composition.  In that case,\n",
    "    # p/rho = constant\n",
    "    A = pres_base / rho_base\n",
    "\n",
    "    # we will discretize HSE as second-order\n",
    "    # p_{i+1} = p_i + dx / 2 (rho_i + rho_{i+1} g\n",
    "    # but we can write p_{i+1} = A rho_{i+1} and solve for rho_{i+1}\n",
    "\n",
    "    p = grid.scratch_array()\n",
    "    rho = grid.scratch_array()\n",
    "\n",
    "    p[grid.lo] = pres_base\n",
    "    rho[grid.lo] = rho_base\n",
    "\n",
    "    for i in range(grid.lo+1, grid.hi+1):\n",
    "        rho[i] = (p[i-1] + 0.5 * grid.dx * rho[i-1] * g) / (A - 0.5 * grid.dx * g)\n",
    "        p[i] = A * rho[i]\n",
    "\n",
    "    # now check:\n",
    "    max_err = 0.0\n",
    "    for i in range(grid.lo+1, grid.hi+1):\n",
    "        dpdr = (p[i] - p[i-1])/grid.dx\n",
    "        rhog = 0.5 * (rho[i] + rho[i-1]) * g\n",
    "        err = np.abs(dpdr - rhog) / np.abs(rhog)\n",
    "        max_err = max(max_err, err)\n",
    "\n",
    "    print(f\"max err = {max_err}\")\n",
    "    \n",
    "    # now fill the conserved variables\n",
    "    U[:, v.urho] = rho[:]\n",
    "    U[:, v.umx] = 0.0\n",
    "    U[:, v.uener] = p[:] / (gamma - 1.0)"
   ]
  },
  {
   "cell_type": "code",
   "execution_count": 3,
   "id": "51d959b0-aa90-4b20-bbdc-39426b00bf6e",
   "metadata": {},
   "outputs": [
    {
     "name": "stdout",
     "output_type": "stream",
     "text": [
      "max err = 4.213371486735258e-15\n"
     ]
    }
   ],
   "source": [
    "e = Euler(32, 0.5, init_cond=hse, grav_func=constant_gravity,\n",
    "          bc_left_type=\"reflect\", bc_right_type=\"reflect\",\n",
    "          params={\"base_density\": 1.0, \"base_pressure\": 1.0, \"g_const\": -1.0})"
   ]
  },
  {
   "cell_type": "code",
   "execution_count": 4,
   "id": "9c189547-9848-4a16-9af6-3d3f0098246f",
   "metadata": {},
   "outputs": [],
   "source": [
    "import numpy as np\n",
    "import matplotlib.pyplot as plt"
   ]
  },
  {
   "cell_type": "code",
   "execution_count": 7,
   "id": "8ddf68bf-8f8b-4782-9d80-11963939673f",
   "metadata": {},
   "outputs": [
    {
     "data": {
      "text/plain": [
       "[<matplotlib.lines.Line2D at 0x7f7314024d10>]"
      ]
     },
     "execution_count": 7,
     "metadata": {},
     "output_type": "execute_result"
    },
    {
     "data": {
      "image/png": "[encoded data removed]",
      "text/plain": [
       "<Figure size 640x480 with 1 Axes>"
      ]
     },
     "metadata": {},
     "output_type": "display_data"
    }
   ],
   "source": [
    "fig, ax = plt.subplots()\n",
    "ax.plot(e.grid.x, e.U[:, 2])"
   ]
  },
  {
   "cell_type": "code",
   "execution_count": 6,
   "id": "c9fb479d-d7bd-4b4a-a4c4-5217edc91b2a",
   "metadata": {},
   "outputs": [
    {
     "name": "stdout",
     "output_type": "stream",
     "text": [
      "step:    1, t =  0.01321, dt =  0.01321\n",
      "step:    2, t =  0.02631, dt =  0.01310\n",
      "step:    3, t =  0.03937, dt =  0.01306\n",
      "step:    4, t =  0.05242, dt =  0.01305\n",
      "step:    5, t =  0.06546, dt =  0.01304\n",
      "step:    6, t =  0.07850, dt =  0.01304\n",
      "step:    7, t =  0.09155, dt =  0.01304\n",
      "step:    8, t =   0.1046, dt =  0.01305\n",
      "step:    9, t =   0.1176, dt =  0.01304\n",
      "step:   10, t =   0.1307, dt =  0.01304\n",
      "step:   11, t =   0.1437, dt =  0.01304\n",
      "step:   12, t =   0.1568, dt =  0.01304\n",
      "step:   13, t =   0.1698, dt =  0.01304\n",
      "step:   14, t =   0.1828, dt =  0.01304\n",
      "step:   15, t =   0.1959, dt =  0.01304\n",
      "step:   16, t =   0.2089, dt =  0.01304\n",
      "step:   17, t =   0.2220, dt =  0.01304\n",
      "step:   18, t =   0.2350, dt =  0.01304\n",
      "step:   19, t =   0.2480, dt =  0.01304\n",
      "step:   20, t =   0.2611, dt =  0.01304\n",
      "step:   21, t =   0.2741, dt =  0.01304\n",
      "step:   22, t =   0.2871, dt =  0.01304\n",
      "step:   23, t =   0.3002, dt =  0.01304\n",
      "step:   24, t =   0.3132, dt =  0.01304\n",
      "step:   25, t =   0.3263, dt =  0.01303\n",
      "step:   26, t =   0.3393, dt =  0.01303\n",
      "step:   27, t =   0.3523, dt =  0.01303\n",
      "step:   28, t =   0.3654, dt =  0.01303\n",
      "step:   29, t =   0.3784, dt =  0.01303\n",
      "step:   30, t =   0.3914, dt =  0.01303\n",
      "step:   31, t =   0.4044, dt =  0.01303\n",
      "step:   32, t =   0.4175, dt =  0.01303\n",
      "step:   33, t =   0.4305, dt =  0.01303\n",
      "step:   34, t =   0.4435, dt =  0.01303\n",
      "step:   35, t =   0.4566, dt =  0.01303\n",
      "step:   36, t =   0.4696, dt =  0.01303\n",
      "step:   37, t =   0.4826, dt =  0.01303\n",
      "step:   38, t =   0.4957, dt =  0.01303\n",
      "step:   39, t =   0.5087, dt =  0.01303\n",
      "step:   40, t =   0.5217, dt =  0.01303\n",
      "step:   41, t =   0.5347, dt =  0.01303\n",
      "step:   42, t =   0.5478, dt =  0.01303\n",
      "step:   43, t =   0.5608, dt =  0.01303\n",
      "step:   44, t =   0.5738, dt =  0.01302\n",
      "step:   45, t =   0.5868, dt =  0.01302\n",
      "step:   46, t =   0.5999, dt =  0.01302\n",
      "step:   47, t =   0.6129, dt =  0.01302\n",
      "step:   48, t =   0.6259, dt =  0.01302\n",
      "step:   49, t =   0.6389, dt =  0.01302\n",
      "step:   50, t =   0.6519, dt =  0.01302\n",
      "step:   51, t =   0.6650, dt =  0.01302\n",
      "step:   52, t =   0.6780, dt =  0.01302\n",
      "step:   53, t =   0.6910, dt =  0.01302\n",
      "step:   54, t =   0.7040, dt =  0.01302\n",
      "step:   55, t =   0.7170, dt =  0.01302\n",
      "step:   56, t =   0.7301, dt =  0.01302\n",
      "step:   57, t =   0.7431, dt =  0.01302\n",
      "step:   58, t =   0.7561, dt =  0.01302\n",
      "step:   59, t =   0.7691, dt =  0.01302\n",
      "step:   60, t =   0.7821, dt =  0.01301\n",
      "step:   61, t =   0.7951, dt =  0.01301\n",
      "step:   62, t =   0.8082, dt =  0.01301\n",
      "step:   63, t =   0.8212, dt =  0.01300\n",
      "step:   64, t =   0.8342, dt =  0.01300\n",
      "step:   65, t =   0.8472, dt =  0.01300\n",
      "step:   66, t =   0.8602, dt =  0.01300\n",
      "step:   67, t =   0.8732, dt =  0.01301\n",
      "step:   68, t =   0.8862, dt =  0.01302\n",
      "step:   69, t =   0.8992, dt =  0.01302\n",
      "step:   70, t =   0.9122, dt =  0.01302\n",
      "step:   71, t =   0.9252, dt =  0.01302\n",
      "step:   72, t =   0.9383, dt =  0.01302\n",
      "step:   73, t =   0.9513, dt =  0.01302\n",
      "step:   74, t =   0.9643, dt =  0.01303\n",
      "step:   75, t =   0.9773, dt =  0.01303\n",
      "step:   76, t =   0.9904, dt =  0.01302\n",
      "step:   77, t =    1.000, dt = 0.009631\n"
     ]
    }
   ],
   "source": [
    "e.evolve(1.0)"
   ]
  },
  {
   "cell_type": "code",
   "execution_count": null,
   "id": "313edca0-aa4c-4dac-ab14-7a6cff0455bd",
   "metadata": {},
   "outputs": [],
   "source": []
  }
 ],
 "metadata": {
  "kernelspec": {
   "display_name": "Python 3 (ipykernel)",
   "language": "python",
   "name": "python3"
  },
  "language_info": {
   "codemirror_mode": {
    "name": "ipython",
    "version": 3
   },
   "file_extension": ".py",
   "mimetype": "text/x-python",
   "name": "python",
   "nbconvert_exporter": "python",
   "pygments_lexer": "ipython3",
   "version": "3.12.4"
  }
 },
 "nbformat": 4,
 "nbformat_minor": 5
}
