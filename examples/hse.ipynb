{
 "cells": [
  {
   "cell_type": "markdown",
   "id": "c37ac15a-66a3-452b-8d2f-1e02daafe7cc",
   "metadata": {},
   "source": [
    "Hydrostatic equilibrum"
   ]
  },
  {
   "cell_type": "code",
   "execution_count": 1,
   "id": "e9274186-dea7-4254-a5e1-1c10e4ede36c",
   "metadata": {},
   "outputs": [],
   "source": [
    "from ppmpy.euler import Euler\n",
    "from ppmpy.gravity import constant_gravity"
   ]
  },
  {
   "cell_type": "code",
   "execution_count": 2,
   "id": "03173b37-c7b3-450d-9eb3-3aed77cca8c1",
   "metadata": {},
   "outputs": [],
   "source": [
    "def hse(grid, v, gamma, U, params):\n",
    "    rho_base = params[\"base_density\"]\n",
    "    pres_base = params[\"base_pressure\"]\n",
    "    g = params[\"g_const\"]\n",
    "    \n",
    "    # we will assume we are isentropic and constant composition.  In that case,\n",
    "    # p/rho = constant\n",
    "    A = pres_base / rho_base\n",
    "\n",
    "    # we will discretize HSE as second-order\n",
    "    # p_{i+1} = p_i + dx / 2 (rho_i + rho_{i+1} g\n",
    "    # but we can write p_{i+1} = A rho_{i+1} and solve for rho_{i+1}\n",
    "\n",
    "    p = grid.scratch_array()\n",
    "    rho = grid.scratch_array()\n",
    "\n",
    "    p[grid.lo] = pres_base\n",
    "    rho[grid.lo] = rho_base\n",
    "\n",
    "    for i in range(grid.lo+1, grid.hi+1):\n",
    "        rho[i] = (p[i-1] + 0.5 * grid.dx * rho[i-1] * g) / (A - 0.5 * grid.dx * g)\n",
    "        p[i] = A * rho[i]\n",
    "\n",
    "    # now fill the conserved variables\n",
    "    U[:, v.urho] = rho[:]\n",
    "    U[:, v.umx] = 0.0\n",
    "    U[:, v.uener] = p[:] / (gamma - 1.0)"
   ]
  },
  {
   "cell_type": "code",
   "execution_count": 3,
   "id": "51d959b0-aa90-4b20-bbdc-39426b00bf6e",
   "metadata": {},
   "outputs": [],
   "source": [
    "e = Euler(32, 0.5, init_cond=hse, grav_func=constant_gravity,\n",
    "          bc_left_type=\"reflect\", bc_right_type=\"reflect\",\n",
    "          params={\"base_density\": 1.0, \"base_pressure\": 1.0, \"g_const\": -1.0})"
   ]
  },
  {
   "cell_type": "code",
   "execution_count": 4,
   "id": "9c189547-9848-4a16-9af6-3d3f0098246f",
   "metadata": {},
   "outputs": [],
   "source": [
    "import numpy as np\n",
    "import matplotlib.pyplot as plt"
   ]
  },
  {
   "cell_type": "code",
   "execution_count": 7,
   "id": "8ddf68bf-8f8b-4782-9d80-11963939673f",
   "metadata": {},
   "outputs": [
    {
     "data": {
      "text/plain": [
       "[<matplotlib.lines.Line2D at 0x7ff09db384d0>]"
      ]
     },
     "execution_count": 7,
     "metadata": {},
     "output_type": "execute_result"
    },
    {
     "data": {
      "image/png": "[encoded data removed]",
      "text/plain": [
       "<Figure size 640x480 with 1 Axes>"
      ]
     },
     "metadata": {},
     "output_type": "display_data"
    }
   ],
   "source": [
    "fig, ax = plt.subplots()\n",
    "ax.plot(e.grid.x, e.U[:, 2])"
   ]
  },
  {
   "cell_type": "code",
   "execution_count": 6,
   "id": "c9fb479d-d7bd-4b4a-a4c4-5217edc91b2a",
   "metadata": {},
   "outputs": [
    {
     "name": "stdout",
     "output_type": "stream",
     "text": [
      "step:    1, t =  0.01321, dt =  0.01321\n",
      "step:    2, t =  0.02038, dt = 0.007179\n",
      "step:    3, t =  0.02532, dt = 0.004931\n",
      "step:    4, t =  0.02906, dt = 0.003749\n",
      "step:    5, t =  0.03208, dt = 0.003017\n",
      "unable to solve for the star region\n",
      "left state = rho: 0.08037377550145913; u: -5.153027627545461; p: 0.07304538298234034\n",
      "right state = rho: 0.08037377550145913; u: 5.153027627545461; p: 0.07304538298234034\n"
     ]
    },
    {
     "ename": "ValueError",
     "evalue": "f(a) and f(b) must have different signs",
     "output_type": "error",
     "traceback": [
      "\u001b[0;31m---------------------------------------------------------------------------\u001b[0m",
      "\u001b[0;31mValueError\u001b[0m                                Traceback (most recent call last)",
      "Cell \u001b[0;32mIn[6], line 1\u001b[0m\n\u001b[0;32m----> 1\u001b[0m \u001b[43me\u001b[49m\u001b[38;5;241;43m.\u001b[39;49m\u001b[43mevolve\u001b[49m\u001b[43m(\u001b[49m\u001b[38;5;241;43m1.0\u001b[39;49m\u001b[43m)\u001b[49m\n",
      "File \u001b[0;32m~/development/ppmpy/ppmpy/euler.py:314\u001b[0m, in \u001b[0;36mEuler.evolve\u001b[0;34m(self, tmax, verbose)\u001b[0m\n\u001b[1;32m    311\u001b[0m     \u001b[38;5;28mself\u001b[39m\u001b[38;5;241m.\u001b[39mdt \u001b[38;5;241m=\u001b[39m tmax \u001b[38;5;241m-\u001b[39m \u001b[38;5;28mself\u001b[39m\u001b[38;5;241m.\u001b[39mt\n\u001b[1;32m    313\u001b[0m \u001b[38;5;66;03m# advance\u001b[39;00m\n\u001b[0;32m--> 314\u001b[0m \u001b[38;5;28;43mself\u001b[39;49m\u001b[38;5;241;43m.\u001b[39;49m\u001b[43madvance_step\u001b[49m\u001b[43m(\u001b[49m\u001b[43m)\u001b[49m\n\u001b[1;32m    315\u001b[0m \u001b[38;5;28mself\u001b[39m\u001b[38;5;241m.\u001b[39mt \u001b[38;5;241m+\u001b[39m\u001b[38;5;241m=\u001b[39m \u001b[38;5;28mself\u001b[39m\u001b[38;5;241m.\u001b[39mdt\n\u001b[1;32m    316\u001b[0m \u001b[38;5;28mself\u001b[39m\u001b[38;5;241m.\u001b[39mnstep \u001b[38;5;241m+\u001b[39m\u001b[38;5;241m=\u001b[39m \u001b[38;5;241m1\u001b[39m\n",
      "File \u001b[0;32m~/development/ppmpy/ppmpy/euler.py:275\u001b[0m, in \u001b[0;36mEuler.advance_step\u001b[0;34m(self)\u001b[0m\n\u001b[1;32m    272\u001b[0m q_left, q_right \u001b[38;5;241m=\u001b[39m \u001b[38;5;28mself\u001b[39m\u001b[38;5;241m.\u001b[39minterface_states()\n\u001b[1;32m    274\u001b[0m \u001b[38;5;66;03m# solve Riemann problem and compute fluxes\u001b[39;00m\n\u001b[0;32m--> 275\u001b[0m flux \u001b[38;5;241m=\u001b[39m \u001b[38;5;28;43mself\u001b[39;49m\u001b[38;5;241;43m.\u001b[39;49m\u001b[43mcompute_fluxes\u001b[49m\u001b[43m(\u001b[49m\u001b[43mq_left\u001b[49m\u001b[43m,\u001b[49m\u001b[43m \u001b[49m\u001b[43mq_right\u001b[49m\u001b[43m)\u001b[49m\n\u001b[1;32m    277\u001b[0m \u001b[38;5;66;03m# conservative update\u001b[39;00m\n\u001b[1;32m    278\u001b[0m \u001b[38;5;66;03m# this is a loop over zones\u001b[39;00m\n\u001b[1;32m    280\u001b[0m U_old \u001b[38;5;241m=\u001b[39m \u001b[38;5;28mself\u001b[39m\u001b[38;5;241m.\u001b[39mU\u001b[38;5;241m.\u001b[39mcopy()\n",
      "File \u001b[0;32m~/development/ppmpy/ppmpy/euler.py:262\u001b[0m, in \u001b[0;36mEuler.compute_fluxes\u001b[0;34m(self, q_left, q_right)\u001b[0m\n\u001b[1;32m    258\u001b[0m sr \u001b[38;5;241m=\u001b[39m State(rho\u001b[38;5;241m=\u001b[39mq_right[i, \u001b[38;5;28mself\u001b[39m\u001b[38;5;241m.\u001b[39mv\u001b[38;5;241m.\u001b[39mqrho],\n\u001b[1;32m    259\u001b[0m            u\u001b[38;5;241m=\u001b[39mq_right[i, \u001b[38;5;28mself\u001b[39m\u001b[38;5;241m.\u001b[39mv\u001b[38;5;241m.\u001b[39mqu],\n\u001b[1;32m    260\u001b[0m            p\u001b[38;5;241m=\u001b[39mq_right[i, \u001b[38;5;28mself\u001b[39m\u001b[38;5;241m.\u001b[39mv\u001b[38;5;241m.\u001b[39mqp])\n\u001b[1;32m    261\u001b[0m rp \u001b[38;5;241m=\u001b[39m RiemannProblem(sl, sr, gamma\u001b[38;5;241m=\u001b[39m\u001b[38;5;28mself\u001b[39m\u001b[38;5;241m.\u001b[39mgamma)\n\u001b[0;32m--> 262\u001b[0m \u001b[43mrp\u001b[49m\u001b[38;5;241;43m.\u001b[39;49m\u001b[43mfind_star_state\u001b[49m\u001b[43m(\u001b[49m\u001b[43m)\u001b[49m\n\u001b[1;32m    263\u001b[0m s_int \u001b[38;5;241m=\u001b[39m rp\u001b[38;5;241m.\u001b[39msample_solution()\n\u001b[1;32m    264\u001b[0m flux[i, :] \u001b[38;5;241m=\u001b[39m \u001b[38;5;28mself\u001b[39m\u001b[38;5;241m.\u001b[39mcons_flux(s_int)\n",
      "File \u001b[0;32m~/development/ppmpy/ppmpy/riemann_exact.py:79\u001b[0m, in \u001b[0;36mRiemannProblem.find_star_state\u001b[0;34m(self, p_min, p_max)\u001b[0m\n\u001b[1;32m     77\u001b[0m \u001b[38;5;66;03m# we need to root-find on\u001b[39;00m\n\u001b[1;32m     78\u001b[0m \u001b[38;5;28;01mtry\u001b[39;00m:\n\u001b[0;32m---> 79\u001b[0m     \u001b[38;5;28mself\u001b[39m\u001b[38;5;241m.\u001b[39mpstar \u001b[38;5;241m=\u001b[39m \u001b[43moptimize\u001b[49m\u001b[38;5;241;43m.\u001b[39;49m\u001b[43mbrentq\u001b[49m\u001b[43m(\u001b[49m\n\u001b[1;32m     80\u001b[0m \u001b[43m        \u001b[49m\u001b[38;5;28;43;01mlambda\u001b[39;49;00m\u001b[43m \u001b[49m\u001b[43mp\u001b[49m\u001b[43m:\u001b[49m\u001b[43m \u001b[49m\u001b[38;5;28;43mself\u001b[39;49m\u001b[38;5;241;43m.\u001b[39;49m\u001b[43mu_hugoniot\u001b[49m\u001b[43m(\u001b[49m\u001b[43mp\u001b[49m\u001b[43m,\u001b[49m\u001b[43m \u001b[49m\u001b[38;5;124;43m\"\u001b[39;49m\u001b[38;5;124;43mleft\u001b[39;49m\u001b[38;5;124;43m\"\u001b[39;49m\u001b[43m)\u001b[49m\u001b[43m \u001b[49m\u001b[38;5;241;43m-\u001b[39;49m\u001b[43m \u001b[49m\u001b[38;5;28;43mself\u001b[39;49m\u001b[38;5;241;43m.\u001b[39;49m\u001b[43mu_hugoniot\u001b[49m\u001b[43m(\u001b[49m\u001b[43mp\u001b[49m\u001b[43m,\u001b[49m\u001b[43m \u001b[49m\u001b[38;5;124;43m\"\u001b[39;49m\u001b[38;5;124;43mright\u001b[39;49m\u001b[38;5;124;43m\"\u001b[39;49m\u001b[43m)\u001b[49m\u001b[43m,\u001b[49m\n\u001b[1;32m     81\u001b[0m \u001b[43m        \u001b[49m\u001b[43mp_min\u001b[49m\u001b[43m,\u001b[49m\u001b[43m \u001b[49m\u001b[43mp_max\u001b[49m\u001b[43m)\u001b[49m\n\u001b[1;32m     82\u001b[0m \u001b[38;5;28;01mexcept\u001b[39;00m \u001b[38;5;167;01mValueError\u001b[39;00m:\n\u001b[1;32m     83\u001b[0m     \u001b[38;5;28mprint\u001b[39m(\u001b[38;5;124m\"\u001b[39m\u001b[38;5;124munable to solve for the star region\u001b[39m\u001b[38;5;124m\"\u001b[39m)\n",
      "File \u001b[0;32m~/.local/lib/python3.12/site-packages/scipy/optimize/_zeros_py.py:806\u001b[0m, in \u001b[0;36mbrentq\u001b[0;34m(f, a, b, args, xtol, rtol, maxiter, full_output, disp)\u001b[0m\n\u001b[1;32m    804\u001b[0m     \u001b[38;5;28;01mraise\u001b[39;00m \u001b[38;5;167;01mValueError\u001b[39;00m(\u001b[38;5;124mf\u001b[39m\u001b[38;5;124m\"\u001b[39m\u001b[38;5;124mrtol too small (\u001b[39m\u001b[38;5;132;01m{\u001b[39;00mrtol\u001b[38;5;132;01m:\u001b[39;00m\u001b[38;5;124mg\u001b[39m\u001b[38;5;132;01m}\u001b[39;00m\u001b[38;5;124m < \u001b[39m\u001b[38;5;132;01m{\u001b[39;00m_rtol\u001b[38;5;132;01m:\u001b[39;00m\u001b[38;5;124mg\u001b[39m\u001b[38;5;132;01m}\u001b[39;00m\u001b[38;5;124m)\u001b[39m\u001b[38;5;124m\"\u001b[39m)\n\u001b[1;32m    805\u001b[0m f \u001b[38;5;241m=\u001b[39m _wrap_nan_raise(f)\n\u001b[0;32m--> 806\u001b[0m r \u001b[38;5;241m=\u001b[39m \u001b[43m_zeros\u001b[49m\u001b[38;5;241;43m.\u001b[39;49m\u001b[43m_brentq\u001b[49m\u001b[43m(\u001b[49m\u001b[43mf\u001b[49m\u001b[43m,\u001b[49m\u001b[43m \u001b[49m\u001b[43ma\u001b[49m\u001b[43m,\u001b[49m\u001b[43m \u001b[49m\u001b[43mb\u001b[49m\u001b[43m,\u001b[49m\u001b[43m \u001b[49m\u001b[43mxtol\u001b[49m\u001b[43m,\u001b[49m\u001b[43m \u001b[49m\u001b[43mrtol\u001b[49m\u001b[43m,\u001b[49m\u001b[43m \u001b[49m\u001b[43mmaxiter\u001b[49m\u001b[43m,\u001b[49m\u001b[43m \u001b[49m\u001b[43margs\u001b[49m\u001b[43m,\u001b[49m\u001b[43m \u001b[49m\u001b[43mfull_output\u001b[49m\u001b[43m,\u001b[49m\u001b[43m \u001b[49m\u001b[43mdisp\u001b[49m\u001b[43m)\u001b[49m\n\u001b[1;32m    807\u001b[0m \u001b[38;5;28;01mreturn\u001b[39;00m results_c(full_output, r, \u001b[38;5;124m\"\u001b[39m\u001b[38;5;124mbrentq\u001b[39m\u001b[38;5;124m\"\u001b[39m)\n",
      "\u001b[0;31mValueError\u001b[0m: f(a) and f(b) must have different signs"
     ]
    }
   ],
   "source": [
    "e.evolve(1.0)"
   ]
  },
  {
   "cell_type": "code",
   "execution_count": null,
   "id": "313edca0-aa4c-4dac-ab14-7a6cff0455bd",
   "metadata": {},
   "outputs": [],
   "source": []
  }
 ],
 "metadata": {
  "kernelspec": {
   "display_name": "Python 3 (ipykernel)",
   "language": "python",
   "name": "python3"
  },
  "language_info": {
   "codemirror_mode": {
    "name": "ipython",
    "version": 3
   },
   "file_extension": ".py",
   "mimetype": "text/x-python",
   "name": "python",
   "nbconvert_exporter": "python",
   "pygments_lexer": "ipython3",
   "version": "3.12.4"
  }
 },
 "nbformat": 4,
 "nbformat_minor": 5
}
