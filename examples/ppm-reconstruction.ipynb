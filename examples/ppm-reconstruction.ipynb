{
 "cells": [
  {
   "cell_type": "markdown",
   "id": "bbc5dd1e-820a-4dba-a509-bbaf28a53d72",
   "metadata": {},
   "source": [
    "# PPM reconstruction"
   ]
  },
  {
   "cell_type": "code",
   "execution_count": 1,
   "id": "66857cb5-cfed-4106-8585-39fdbabcbdd8",
   "metadata": {},
   "outputs": [],
   "source": [
    "import numpy as np\n",
    "import matplotlib.pyplot as plt"
   ]
  },
  {
   "cell_type": "markdown",
   "id": "3401fef8-d90c-4be0-bf49-82f853d5305f",
   "metadata": {},
   "source": [
    "A simple 1D finite-volume grid class.  This includes some methods that allow us to plot the grid."
   ]
  },
  {
   "cell_type": "code",
   "execution_count": 4,
   "id": "4c7a0b2a-adf0-4e85-badb-7ea71f6dd890",
   "metadata": {},
   "outputs": [],
   "source": [
    "from ppmpy import FVGrid, PPMInterpolant"
   ]
  },
  {
   "cell_type": "markdown",
   "id": "5e982768-7fad-498d-b823-a19779872d29",
   "metadata": {},
   "source": [
    "An example grid with 4 cells + 3 ghost cells"
   ]
  },
  {
   "cell_type": "code",
   "execution_count": 5,
   "id": "3783299e-ebb2-4bf6-94ce-7603510ee2d1",
   "metadata": {},
   "outputs": [],
   "source": [
    "g = FVGrid(4, 3)"
   ]
  },
  {
   "cell_type": "code",
   "execution_count": 6,
   "id": "2e29f7b8-4724-48d7-ae34-9f3339b3c366",
   "metadata": {},
   "outputs": [
    {
     "data": {
      "image/png": "[encoded data removed]",
      "text/plain": [
       "<Figure size 1200x120 with 1 Axes>"
      ]
     },
     "metadata": {},
     "output_type": "display_data"
    }
   ],
   "source": [
    "fig, ax = g.draw()"
   ]
  },
  {
   "cell_type": "markdown",
   "id": "a3ba43eb-c28c-4456-a9df-aaba1e6e0f8e",
   "metadata": {},
   "source": [
    "Let's create data on the grid (including the ghost cells) and visualize the PPM reconstruction."
   ]
  },
  {
   "cell_type": "code",
   "execution_count": 9,
   "id": "2e1e2d21-f74b-4932-b885-46fde02a9c79",
   "metadata": {},
   "outputs": [
    {
     "data": {
      "text/plain": [
       "array([0.3 , 1.  , 0.9 , 0.8 , 0.25, 0.1 , 0.5 , 0.55, 0.25, 0.1 ])"
      ]
     },
     "execution_count": 9,
     "metadata": {},
     "output_type": "execute_result"
    }
   ],
   "source": [
    "a = g.scratch_array()\n",
    "a[:] = [0.3, 1.0, 0.9, 0.8, 0.25, 0.1, 0.5, 0.55, 0.25, 0.1]\n",
    "a"
   ]
  },
  {
   "cell_type": "code",
   "execution_count": 10,
   "id": "c849ce6f-567a-45de-9409-3af8d5cae97a",
   "metadata": {},
   "outputs": [],
   "source": [
    "ppm = PPMInterpolant(g, a)"
   ]
  },
  {
   "cell_type": "code",
   "execution_count": 11,
   "id": "077f83ec-63e6-4ec3-a9da-d0f5ee17faa3",
   "metadata": {},
   "outputs": [],
   "source": [
    "ppm.construct_parabola()"
   ]
  },
  {
   "cell_type": "code",
   "execution_count": 12,
   "id": "8bf9fde3-5e6b-453f-877d-563b3b6dd16d",
   "metadata": {},
   "outputs": [
    {
     "data": {
      "image/png": "[encoded data removed]",
      "text/plain": [
       "<Figure size 1200x120 with 1 Axes>"
      ]
     },
     "execution_count": 12,
     "metadata": {},
     "output_type": "execute_result"
    }
   ],
   "source": [
    "ppm.draw_parabola(ax)\n",
    "ppm.mark_cubic(ax)\n",
    "fig"
   ]
  }
 ],
 "metadata": {
  "kernelspec": {
   "display_name": "Python 3 (ipykernel)",
   "language": "python",
   "name": "python3"
  },
  "language_info": {
   "codemirror_mode": {
    "name": "ipython",
    "version": 3
   },
   "file_extension": ".py",
   "mimetype": "text/x-python",
   "name": "python",
   "nbconvert_exporter": "python",
   "pygments_lexer": "ipython3",
   "version": "3.12.4"
  }
 },
 "nbformat": 4,
 "nbformat_minor": 5
}
