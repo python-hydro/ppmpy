{
 "cells": [
  {
   "cell_type": "markdown",
   "id": "bbc5dd1e-820a-4dba-a509-bbaf28a53d72",
   "metadata": {},
   "source": [
    "# PPM reconstruction"
   ]
  },
  {
   "cell_type": "markdown",
   "id": "841eb787-57c1-48d5-a791-026e85b39366",
   "metadata": {},
   "source": [
    "PPMpy provides modules that support a finite-volume discretization on a 1D grid and the ability\n",
    "to reconstruct the cell-average data as parabolas, following the procedure in the original PPM paper ([Colella & Woodward 1984](https://crd.lbl.gov/assets/pubs_presos/AMCS/ANAG/A141984.pdf))."
   ]
  },
  {
   "cell_type": "code",
   "execution_count": 1,
   "id": "66857cb5-cfed-4106-8585-39fdbabcbdd8",
   "metadata": {},
   "outputs": [],
   "source": [
    "import numpy as np\n",
    "import matplotlib.pyplot as plt"
   ]
  },
  {
   "cell_type": "markdown",
   "id": "3401fef8-d90c-4be0-bf49-82f853d5305f",
   "metadata": {},
   "source": [
    "`FVGrid` provides a simple 1D finite-volume grid class.  It provides the coordinates for the cells\n",
    "and can create a scratch array defined on the grid.  It also knows how to fill ghost cells and\n",
    "compute the norm of the data on the grid.  Finally, it includes some methods that allow us to plot the grid."
   ]
  },
  {
   "cell_type": "code",
   "execution_count": 1,
   "id": "4c7a0b2a-adf0-4e85-badb-7ea71f6dd890",
   "metadata": {},
   "outputs": [],
   "source": [
    "from ppmpy import FVGrid"
   ]
  },
  {
   "cell_type": "markdown",
   "id": "5e982768-7fad-498d-b823-a19779872d29",
   "metadata": {},
   "source": [
    "An example grid with 4 cells + 3 ghost cells"
   ]
  },
  {
   "cell_type": "code",
   "execution_count": 2,
   "id": "3783299e-ebb2-4bf6-94ce-7603510ee2d1",
   "metadata": {},
   "outputs": [],
   "source": [
    "g = FVGrid(4, 3)"
   ]
  },
  {
   "cell_type": "code",
   "execution_count": 3,
   "id": "2e29f7b8-4724-48d7-ae34-9f3339b3c366",
   "metadata": {},
   "outputs": [
    {
     "data": {
      "image/png": "[encoded data removed]",
      "text/plain": [
       "<Figure size 1200x120 with 1 Axes>"
      ]
     },
     "metadata": {},
     "output_type": "display_data"
    }
   ],
   "source": [
    "fig, ax = g.draw()"
   ]
  },
  {
   "cell_type": "markdown",
   "id": "a3ba43eb-c28c-4456-a9df-aaba1e6e0f8e",
   "metadata": {},
   "source": [
    "Let's create data on the grid (including the ghost cells) and visualize the PPM reconstruction."
   ]
  },
  {
   "cell_type": "code",
   "execution_count": 6,
   "id": "2e1e2d21-f74b-4932-b885-46fde02a9c79",
   "metadata": {},
   "outputs": [
    {
     "data": {
      "text/plain": [
       "array([0.3 , 1.  , 0.9 , 0.8 , 0.25, 0.1 , 0.5 , 0.55, 0.25, 0.1 ])"
      ]
     },
     "execution_count": 6,
     "metadata": {},
     "output_type": "execute_result"
    }
   ],
   "source": [
    "a = g.scratch_array()\n",
    "a[:] = [0.3, 1.0, 0.9, 0.8, 0.25, 0.1, 0.5, 0.55, 0.25, 0.1]\n",
    "a"
   ]
  },
  {
   "cell_type": "markdown",
   "id": "51e9c893-b9aa-4bb6-9c3d-3b89b3b87204",
   "metadata": {},
   "source": [
    "`PPMInterpolant` manages the PPM reconstruction of the data."
   ]
  },
  {
   "cell_type": "code",
   "execution_count": 7,
   "id": "7715cc5a-ef74-452d-82b0-1cc8664b2cf5",
   "metadata": {},
   "outputs": [],
   "source": [
    "from ppmpy import PPMInterpolant"
   ]
  },
  {
   "cell_type": "code",
   "execution_count": 9,
   "id": "c849ce6f-567a-45de-9409-3af8d5cae97a",
   "metadata": {},
   "outputs": [],
   "source": [
    "ppm = PPMInterpolant(g, a)\n",
    "ppm.construct_parabola()"
   ]
  },
  {
   "cell_type": "markdown",
   "id": "50a5a764-d05a-4015-ae42-169ab4b29aaf",
   "metadata": {},
   "source": [
    "We can now visualize the PPM reconstruction of the data"
   ]
  },
  {
   "cell_type": "code",
   "execution_count": 10,
   "id": "8bf9fde3-5e6b-453f-877d-563b3b6dd16d",
   "metadata": {},
   "outputs": [
    {
     "data": {
      "image/png": "[encoded data removed]",
      "text/plain": [
       "<Figure size 1200x120 with 1 Axes>"
      ]
     },
     "execution_count": 10,
     "metadata": {},
     "output_type": "execute_result"
    }
   ],
   "source": [
    "ppm.draw_parabola(ax)\n",
    "ppm.mark_cubic(ax)\n",
    "fig"
   ]
  },
  {
   "cell_type": "markdown",
   "id": "cc4e0146-a50d-48ca-afec-b733d8efa085",
   "metadata": {},
   "source": [
    "For comparison, we can look at the unlimited case:"
   ]
  },
  {
   "cell_type": "code",
   "execution_count": 12,
   "id": "cc8fcb71-df07-4727-bc15-4a03426d7658",
   "metadata": {},
   "outputs": [],
   "source": [
    "ppm = PPMInterpolant(g, a, limit=False)\n",
    "ppm.construct_parabola()"
   ]
  },
  {
   "cell_type": "code",
   "execution_count": 14,
   "id": "6ab9868a-cdc4-46b8-b353-a218d9253abd",
   "metadata": {},
   "outputs": [
    {
     "data": {
      "image/png": "[encoded data removed]",
      "text/plain": [
       "<Figure size 1200x120 with 1 Axes>"
      ]
     },
     "metadata": {},
     "output_type": "display_data"
    }
   ],
   "source": [
    "fig2, ax2 = g.draw()\n",
    "ppm.draw_parabola(ax2)\n",
    "ppm.mark_cubic(ax2)"
   ]
  }
 ],
 "metadata": {
  "kernelspec": {
   "display_name": "Python 3 (ipykernel)",
   "language": "python",
   "name": "python3"
  },
  "language_info": {
   "codemirror_mode": {
    "name": "ipython",
    "version": 3
   },
   "file_extension": ".py",
   "mimetype": "text/x-python",
   "name": "python",
   "nbconvert_exporter": "python",
   "pygments_lexer": "ipython3",
   "version": "3.12.4"
  }
 },
 "nbformat": 4,
 "nbformat_minor": 5
}
