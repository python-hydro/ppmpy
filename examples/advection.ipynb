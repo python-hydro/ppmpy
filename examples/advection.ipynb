{
 "cells": [
  {
   "cell_type": "markdown",
   "id": "cfa187d0-afab-4d14-9b3d-750560bf5541",
   "metadata": {},
   "source": [
    "# PPM Linear Advection Example"
   ]
  },
  {
   "cell_type": "markdown",
   "id": "a19042a8-6bad-485d-97a9-58ad0038039b",
   "metadata": {},
   "source": [
    "A simple illustration of the linear advection equation using PPM reconstruction."
   ]
  },
  {
   "cell_type": "code",
   "execution_count": 7,
   "id": "84e69822-d837-4910-94da-c1f2b2431243",
   "metadata": {},
   "outputs": [],
   "source": [
    "import numpy as np\n",
    "import matplotlib.pyplot as plt"
   ]
  },
  {
   "cell_type": "code",
   "execution_count": 8,
   "id": "ef501cfd-3a29-428b-b831-c087881a0698",
   "metadata": {},
   "outputs": [],
   "source": [
    "from ppmpy import FVGrid, PPMInterpolant"
   ]
  },
  {
   "cell_type": "markdown",
   "id": "60816e5e-b304-4fd9-9fd2-79e918b0c841",
   "metadata": {},
   "source": [
    "We generate the left and right states by reconstructing each cell's data as a parabola and then integrating under the parabola along the distance $u dt$ from the interface."
   ]
  },
  {
   "cell_type": "code",
   "execution_count": 9,
   "id": "eb8744fd-d784-4236-a6c7-6b5e5b7f6c85",
   "metadata": {},
   "outputs": [],
   "source": [
    "def states(grid, a, u, dt):\n",
    "    a_ppm = PPMInterpolant(grid, a)\n",
    "    sigma = u * dt / grid.dx\n",
    "    \n",
    "    # Im is the left side of the zone, Ip is the right side of the zone\n",
    "    Im, Ip = a_ppm.integrate(sigma)\n",
    "\n",
    "    # convert these to be left and right of an interface\n",
    "    a_left = grid.scratch_array()\n",
    "    a_right = grid.scratch_array()\n",
    "\n",
    "    a_right[:] = Im[:]\n",
    "    a_left[1:] = Ip[:-1]\n",
    "\n",
    "    return a_left, a_right"
   ]
  },
  {
   "cell_type": "markdown",
   "id": "286c6e3c-ce74-4988-acd9-6bf15a68f57a",
   "metadata": {},
   "source": [
    "Here's the driver.  The basic evolution loop is:\n",
    "* fill ghost cells\n",
    "* predict interface states\n",
    "* solve Riemann problem (just upwinding for us)\n",
    "* do the conservative update"
   ]
  },
  {
   "cell_type": "code",
   "execution_count": 10,
   "id": "a17f88d2-369e-447b-a5b6-b64be34963cb",
   "metadata": {},
   "outputs": [],
   "source": [
    "def advection(nx, u, C, *, num_periods=1, init_cond=None):\n",
    "\n",
    "    g = FVGrid(nx, ng=3)\n",
    "\n",
    "    t_period = (g.xmax - g.xmin) / np.abs(u)\n",
    "    tmax = num_periods * t_period\n",
    "\n",
    "    # setup the initial conditions\n",
    "    a_init = init_cond(g)\n",
    "    \n",
    "    # compute the timestep\n",
    "    dt = C * g.dx / np.abs(u)\n",
    "\n",
    "    a = g.scratch_array()\n",
    "    a[:] = a_init[:]\n",
    "    \n",
    "    t = 0.0\n",
    "    while t < tmax:\n",
    "        if t + dt > tmax:\n",
    "            dt = tmax - t\n",
    "\n",
    "        g.ghost_fill(a, bc_left_type=\"periodic\", bc_right_type=\"periodic\")\n",
    "\n",
    "        # get the interface states\n",
    "        a_left, a_right = states(g, a, u, dt)\n",
    "\n",
    "        # solve the Riemann problem\n",
    "        a_int = np.where(u > 0, a_left, a_right)\n",
    "        \n",
    "        # do the update\n",
    "        a[g.lo:g.hi+1] += -dt * u * (a_int[g.lo+1:g.hi+2] - a_int[g.lo:g.hi+1]) / g.dx\n",
    "        t += dt\n",
    "\n",
    "    return g, a"
   ]
  },
  {
   "cell_type": "markdown",
   "id": "7418ca09-f603-4672-9f6d-25204d65bf43",
   "metadata": {},
   "source": [
    "Our initial conditions will be a simple tophat profile"
   ]
  },
  {
   "cell_type": "code",
   "execution_count": 11,
   "id": "77330d01-8ed1-48b7-8563-2adbc1e9ce2e",
   "metadata": {},
   "outputs": [],
   "source": [
    "def tophat(g):\n",
    "    a = g.scratch_array()\n",
    "    a[:] = 0.0\n",
    "    a[np.logical_and(g.x >= 1./3., g.x <= 2./3.)] = 1.0\n",
    "    return a"
   ]
  },
  {
   "cell_type": "markdown",
   "id": "724dc84f-945c-480f-8c6c-f55944bd573c",
   "metadata": {},
   "source": [
    "Now we run for 10 periods via periodic boundary conditions"
   ]
  },
  {
   "cell_type": "code",
   "execution_count": 12,
   "id": "92c9f078-3e2f-4748-bcdc-4c1510fa5507",
   "metadata": {},
   "outputs": [],
   "source": [
    "g, a = advection(128, 1.0, 0.8, num_periods=10, init_cond=tophat)"
   ]
  },
  {
   "cell_type": "code",
   "execution_count": 13,
   "id": "2e165a15-92a1-42d9-93c8-f1cda7500554",
   "metadata": {},
   "outputs": [
    {
     "data": {
      "text/plain": [
       "[<matplotlib.lines.Line2D at 0x7fb925361a60>]"
      ]
     },
     "execution_count": 13,
     "metadata": {},
     "output_type": "execute_result"
    },
    {
     "data": {
      "image/png": "[encoded data removed]",
      "text/plain": [
       "<Figure size 640x480 with 1 Axes>"
      ]
     },
     "metadata": {},
     "output_type": "display_data"
    }
   ],
   "source": [
    "fig, ax = plt.subplots()\n",
    "ax.plot(g.x, a)\n",
    "ax.plot(g.x, tophat(g), ls=\":\")"
   ]
  },
  {
   "cell_type": "markdown",
   "id": "ecd96906-1c9b-4410-86e9-251ff621762e",
   "metadata": {},
   "source": [
    "We see that the profile looks quite good even after 10 periods."
   ]
  }
 ],
 "metadata": {
  "kernelspec": {
   "display_name": "Python 3 (ipykernel)",
   "language": "python",
   "name": "python3"
  },
  "language_info": {
   "codemirror_mode": {
    "name": "ipython",
    "version": 3
   },
   "file_extension": ".py",
   "mimetype": "text/x-python",
   "name": "python",
   "nbconvert_exporter": "python",
   "pygments_lexer": "ipython3",
   "version": "3.12.4"
  }
 },
 "nbformat": 4,
 "nbformat_minor": 5
}
