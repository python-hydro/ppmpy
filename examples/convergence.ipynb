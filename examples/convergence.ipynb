{
 "cells": [
  {
   "cell_type": "markdown",
   "id": "3e11cc7f-e3cc-4aab-827f-17c08eb95d5d",
   "metadata": {},
   "source": [
    "# Convergence of the Euler Solver"
   ]
  },
  {
   "cell_type": "markdown",
   "id": "89e9eacd-e69c-411a-983d-90ae94ff3326",
   "metadata": {},
   "source": [
    "Test the convergence of the Euler solver by running the acoustic\n",
    "pulse problem and doing Richardson extrapolation to estimate\n",
    "the convergence.\n",
    "\n",
    "We'll use the acoustic pulse problem described in [McCorquodale & Colella 2011](https://msp.org/camcos/2011/6-1/camcos-v6-n1-p01-p.pdf)."
   ]
  },
  {
   "cell_type": "code",
   "execution_count": 2,
   "id": "372974ed-76c9-4f89-a2ff-6afeb4fbf8ae",
   "metadata": {},
   "outputs": [],
   "source": [
    "from ppmpy import Euler\n",
    "from ppmpy.initial_conditions import acoustic_pulse"
   ]
  },
  {
   "cell_type": "code",
   "execution_count": 3,
   "id": "77d44a26-2a9a-4e98-aa54-37f74047d4e2",
   "metadata": {},
   "outputs": [],
   "source": [
    "import numpy as np"
   ]
  },
  {
   "cell_type": "markdown",
   "id": "b63f6afe-801f-4a25-850e-ce62dad56e4a",
   "metadata": {},
   "source": [
    "Here we run simulations at different resolutions and store the simulation object in a list."
   ]
  },
  {
   "cell_type": "code",
   "execution_count": 4,
   "id": "22953f59-fba6-4980-9337-59c33135ad5f",
   "metadata": {},
   "outputs": [
    {
     "name": "stdout",
     "output_type": "stream",
     "text": [
      "nx = 32, number of steps = 40\n",
      "nx = 64, number of steps = 80\n",
      "nx = 128, number of steps = 160\n",
      "nx = 256, number of steps = 320\n"
     ]
    }
   ],
   "source": [
    "simulations = []\n",
    "for nx in [32, 64, 128, 256]:\n",
    "    dt = 1.0 / nx * 0.192\n",
    "    e = Euler(nx, 0.5, fixed_dt=dt, init_cond=acoustic_pulse,\n",
    "              use_flattening=False, use_limiting=False,\n",
    "              bc_left_type=\"periodic\", bc_right_type=\"periodic\")\n",
    "    e.evolve(0.24, verbose=False)\n",
    "    print(f\"nx = {nx}, number of steps = {e.nstep}\")\n",
    "    simulations.append(e)"
   ]
  },
  {
   "cell_type": "markdown",
   "id": "848018a8-09f2-4ee2-8ea8-1081e177515b",
   "metadata": {},
   "source": [
    "Now we'll loop over pairs of simulations and coarsen the finer simulation by a factor of 2, so it is at the same resolution as the coarser simulation, and then compute the norm of the difference."
   ]
  },
  {
   "cell_type": "code",
   "execution_count": 5,
   "id": "5c4dcdb5-fb31-4f1e-9a4c-058044a483e5",
   "metadata": {},
   "outputs": [],
   "source": [
    "from itertools import pairwise\n",
    "ivar = 0"
   ]
  },
  {
   "cell_type": "code",
   "execution_count": 6,
   "id": "4ad5fe6f-4954-40d0-aba8-d6d92060819b",
   "metadata": {},
   "outputs": [
    {
     "name": "stdout",
     "output_type": "stream",
     "text": [
      " 64 ->  32 : 0.00011870354704899136\n",
      "128 ->  64 : 2.6223741132454916e-05\n",
      "256 -> 128 : 6.732654910211722e-06\n"
     ]
    }
   ],
   "source": [
    "for coarse, fine in pairwise(simulations):\n",
    "    _, cd = fine.grid.coarsen(fine.U[:, ivar])\n",
    "    err = coarse.grid.norm(coarse.U[:, ivar] - cd)\n",
    "    print(f\"{fine.grid.nx:3d} -> {coarse.grid.nx:3d} : {err}\")"
   ]
  },
  {
   "cell_type": "markdown",
   "id": "34c70a9d-adf5-4ff0-a47b-9480b25e2d03",
   "metadata": {},
   "source": [
    "We see that we are converging second order as we increase the resolution."
   ]
  }
 ],
 "metadata": {
  "kernelspec": {
   "display_name": "Python 3 (ipykernel)",
   "language": "python",
   "name": "python3"
  },
  "language_info": {
   "codemirror_mode": {
    "name": "ipython",
    "version": 3
   },
   "file_extension": ".py",
   "mimetype": "text/x-python",
   "name": "python",
   "nbconvert_exporter": "python",
   "pygments_lexer": "ipython3",
   "version": "3.12.4"
  }
 },
 "nbformat": 4,
 "nbformat_minor": 5
}
