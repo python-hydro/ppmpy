{
 "cells": [
  {
   "cell_type": "code",
   "execution_count": 19,
   "id": "8d14dfdf-4fce-444f-b8fa-914f43f54d9f",
   "metadata": {},
   "outputs": [],
   "source": [
    "# test the convergence of the Euler solver"
   ]
  },
  {
   "cell_type": "code",
   "execution_count": 1,
   "id": "372974ed-76c9-4f89-a2ff-6afeb4fbf8ae",
   "metadata": {},
   "outputs": [],
   "source": [
    "from ppmpy import Euler\n",
    "from ppmpy.initial_conditions import acoustic_pulse"
   ]
  },
  {
   "cell_type": "code",
   "execution_count": 2,
   "id": "77d44a26-2a9a-4e98-aa54-37f74047d4e2",
   "metadata": {},
   "outputs": [],
   "source": [
    "import numpy as np"
   ]
  },
  {
   "cell_type": "code",
   "execution_count": 12,
   "id": "22953f59-fba6-4980-9337-59c33135ad5f",
   "metadata": {},
   "outputs": [],
   "source": [
    "simulations = []\n",
    "for nx in [32, 64, 128, 256]:\n",
    "    dt = 1.0 / nx * 0.192\n",
    "    e = Euler(nx, 0.5, fixed_dt=dt, init_cond=acoustic_pulse,\n",
    "              bc_left_type=\"periodic\", bc_right_type=\"periodic\")\n",
    "    e.evolve(0.24, verbose=False)\n",
    "    simulations.append(e)"
   ]
  },
  {
   "cell_type": "code",
   "execution_count": 13,
   "id": "ab1ea4b3-053b-486a-bfa1-f13d635ca66e",
   "metadata": {},
   "outputs": [],
   "source": [
    "# now loop over pairs and coarsen the finer one and compute the norm"
   ]
  },
  {
   "cell_type": "code",
   "execution_count": 24,
   "id": "5c4dcdb5-fb31-4f1e-9a4c-058044a483e5",
   "metadata": {},
   "outputs": [],
   "source": [
    "from itertools import pairwise\n",
    "ivar = 1"
   ]
  },
  {
   "cell_type": "code",
   "execution_count": 25,
   "id": "4ad5fe6f-4954-40d0-aba8-d6d92060819b",
   "metadata": {},
   "outputs": [
    {
     "name": "stdout",
     "output_type": "stream",
     "text": [
      " 64 ->  32 : 0.0034705261499779964\n",
      "128 ->  64 : 0.0017416772011993949\n",
      "256 -> 128 : 0.0009095979375101773\n"
     ]
    }
   ],
   "source": [
    "for coarse, fine in pairwise(simulations):\n",
    "    _, cd = fine.grid.coarsen(fine.U[:, ivar])\n",
    "    err = coarse.grid.norm(coarse.U[:, ivar] - cd)\n",
    "    print(f\"{fine.grid.nx:3d} -> {coarse.grid.nx:3d} : {err}\")"
   ]
  },
  {
   "cell_type": "code",
   "execution_count": null,
   "id": "c5e20202-9877-4c45-b3b4-eefb45cb979a",
   "metadata": {},
   "outputs": [],
   "source": []
  }
 ],
 "metadata": {
  "kernelspec": {
   "display_name": "Python 3 (ipykernel)",
   "language": "python",
   "name": "python3"
  },
  "language_info": {
   "codemirror_mode": {
    "name": "ipython",
    "version": 3
   },
   "file_extension": ".py",
   "mimetype": "text/x-python",
   "name": "python",
   "nbconvert_exporter": "python",
   "pygments_lexer": "ipython3",
   "version": "3.12.4"
  }
 },
 "nbformat": 4,
 "nbformat_minor": 5
}
