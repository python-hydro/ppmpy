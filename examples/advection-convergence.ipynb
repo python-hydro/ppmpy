{
 "cells": [
  {
   "cell_type": "markdown",
   "id": "596715b6-935c-47c3-8180-7b9a7a356cc5",
   "metadata": {},
   "source": [
    "# Convergence of Linear Advection"
   ]
  },
  {
   "cell_type": "markdown",
   "id": "02bdfbeb-f413-479b-a383-d65cbb098531",
   "metadata": {},
   "source": [
    "Assessing the convergence of the linear advection solver is straightforward, since linear advection should not alter the initial profile's shape, just simply shift it by a velocity $u$.\n",
    "\n",
    "Therefore if we use periodic boundary conditions and advect for a full period,\n",
    "then the solution should be the same as the initial conditions--any deviation is numerical error."
   ]
  },
  {
   "cell_type": "markdown",
   "id": "3b51b53c-a423-42fa-8e47-7948565f98d2",
   "metadata": {},
   "source": [
    "```{important}\n",
    "When measuring convergence, it is important to use smooth initial conditions, to ensure that the initial conditions themselves are resolved and the limiters do not kick in severely.  \n",
    "\n",
    "For that reason, here we use the `sine` initial conditions.\n",
    "```"
   ]
  },
  {
   "cell_type": "code",
   "execution_count": 3,
   "id": "d957a7e6-46bd-409c-b2af-1aac63bf5c7e",
   "metadata": {},
   "outputs": [],
   "source": [
    "from ppmpy.advection import advection, sine"
   ]
  },
  {
   "cell_type": "code",
   "execution_count": 4,
   "id": "dbd5812b-dfb2-47c9-b49b-b9a9ed3b2caa",
   "metadata": {},
   "outputs": [],
   "source": [
    "u = 1.0\n",
    "C = 0.5"
   ]
  },
  {
   "cell_type": "markdown",
   "id": "4609bc34-adc0-4355-9db6-c1696d3ef53f",
   "metadata": {},
   "source": [
    "We'll run for several resolutions and compute the norm of the error--the different between the solution and the initial conditions."
   ]
  },
  {
   "cell_type": "code",
   "execution_count": 6,
   "id": "fb8cc92c-d3d0-440a-a7cd-601490320990",
   "metadata": {},
   "outputs": [
    {
     "name": "stdout",
     "output_type": "stream",
     "text": [
      "nx =  32; error = 0.0049829\n",
      "nx =  64; error = 0.0012803\n",
      "nx = 128; error = 0.0003151\n",
      "nx = 256; error = 7.6614e-05\n",
      "nx = 512; error = 1.8475e-05\n"
     ]
    }
   ],
   "source": [
    "for nx in [32, 64, 128, 256, 512]:\n",
    "    g, a = advection(nx, u, C, init_cond=sine)\n",
    "    err = g.norm(a - sine(g))\n",
    "    print(f\"nx = {nx:3d}; error = {err:9.5g}\")"
   ]
  },
  {
   "cell_type": "markdown",
   "id": "681de97f-d8b1-43ef-8e50-5805dcc65e3f",
   "metadata": {},
   "source": [
    "Here we see that as we double the resolution, the error goes down by approximately \n",
    "a factor of four, demonstrating second-order convergence."
   ]
  }
 ],
 "metadata": {
  "kernelspec": {
   "display_name": "Python 3 (ipykernel)",
   "language": "python",
   "name": "python3"
  },
  "language_info": {
   "codemirror_mode": {
    "name": "ipython",
    "version": 3
   },
   "file_extension": ".py",
   "mimetype": "text/x-python",
   "name": "python",
   "nbconvert_exporter": "python",
   "pygments_lexer": "ipython3",
   "version": "3.12.4"
  }
 },
 "nbformat": 4,
 "nbformat_minor": 5
}
