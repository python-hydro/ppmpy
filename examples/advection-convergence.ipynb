{
 "cells": [
  {
   "cell_type": "markdown",
   "id": "596715b6-935c-47c3-8180-7b9a7a356cc5",
   "metadata": {},
   "source": [
    "# Convergence of Linear Advection"
   ]
  },
  {
   "cell_type": "code",
   "execution_count": 1,
   "id": "d957a7e6-46bd-409c-b2af-1aac63bf5c7e",
   "metadata": {},
   "outputs": [],
   "source": [
    "from ppmpy.advection import advection, sine"
   ]
  },
  {
   "cell_type": "code",
   "execution_count": 8,
   "id": "dbd5812b-dfb2-47c9-b49b-b9a9ed3b2caa",
   "metadata": {},
   "outputs": [],
   "source": [
    "u = 1.0\n",
    "C = 0.5"
   ]
  },
  {
   "cell_type": "code",
   "execution_count": 10,
   "id": "fb8cc92c-d3d0-440a-a7cd-601490320990",
   "metadata": {},
   "outputs": [
    {
     "name": "stdout",
     "output_type": "stream",
     "text": [
      "nx =  32; error = 0.0049829\n",
      "nx =  64; error = 0.0012803\n",
      "nx = 128; error = 0.0003151\n",
      "nx = 256; error = 7.6614e-05\n"
     ]
    }
   ],
   "source": [
    "for nx in [32, 64, 128, 256]:\n",
    "    g, a = advection(nx, u, C, init_cond=sine)\n",
    "    ainit = sine(g)\n",
    "    err = g.norm(a - ainit)\n",
    "    print(f\"nx = {nx:3d}; error = {err:9.5g}\")"
   ]
  },
  {
   "cell_type": "code",
   "execution_count": null,
   "id": "07c0dd3a-50ae-4760-9636-94d4ce375f8f",
   "metadata": {},
   "outputs": [],
   "source": []
  }
 ],
 "metadata": {
  "kernelspec": {
   "display_name": "Python 3 (ipykernel)",
   "language": "python",
   "name": "python3"
  },
  "language_info": {
   "codemirror_mode": {
    "name": "ipython",
    "version": 3
   },
   "file_extension": ".py",
   "mimetype": "text/x-python",
   "name": "python",
   "nbconvert_exporter": "python",
   "pygments_lexer": "ipython3",
   "version": "3.12.4"
  }
 },
 "nbformat": 4,
 "nbformat_minor": 5
}
