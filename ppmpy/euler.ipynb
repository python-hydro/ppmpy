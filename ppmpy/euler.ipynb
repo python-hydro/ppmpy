{
 "cells": [
  {
   "cell_type": "code",
   "execution_count": 8,
   "id": "c9e6fad1-4184-4dad-a6e4-3920d276f4c7",
   "metadata": {},
   "outputs": [],
   "source": [
    "import numpy as np"
   ]
  },
  {
   "cell_type": "code",
   "execution_count": 3,
   "id": "92aee985-ddf3-4d82-9446-e4ea0e3b1bd4",
   "metadata": {},
   "outputs": [],
   "source": [
    "class FluidVars:\n",
    "    \"\"\"A simple container that holds the integer indicies we will use to\n",
    "    refer to the different fluid components\"\"\"\n",
    "    def __init__(self):\n",
    "        self.nvar = 3\n",
    "    \n",
    "        # conserved variables\n",
    "        self.urho = 0\n",
    "        self.umx = 1\n",
    "        self.uener = 2\n",
    "    \n",
    "        # primitive variables\n",
    "        self.qrho = 0\n",
    "        self.qu = 1\n",
    "        self.qp = 2"
   ]
  },
  {
   "cell_type": "code",
   "execution_count": 7,
   "id": "cabf715d-d662-4481-a9eb-7f9057370c1e",
   "metadata": {},
   "outputs": [
    {
     "data": {
      "text/plain": [
       "1"
      ]
     },
     "execution_count": 7,
     "metadata": {},
     "output_type": "execute_result"
    }
   ],
   "source": [
    "class Euler:\n",
    "    def __init__(self, nx, C, *,\n",
    "                 gamma=1.4, init_cond=None):\n",
    "\n",
    "        self.grid = FVGrid(nx, ng=4)\n",
    "        self.v = FluidVars()\n",
    "        \n",
    "        self.C = C\n",
    "\n",
    "        # storage for the current solution\n",
    "        self.U = self.grid.scratch_array(nc=self.v.nvar)\n",
    "\n",
    "        # initialize\n",
    "        init_cond(self.grid, self.U)\n",
    "\n",
    "    def estimate_dt(self):\n",
    "        pass\n",
    "\n",
    "    def cons_to_prim(self, U):\n",
    "        q = self.grid.scratch_array(nc=self.v.nvar)\n",
    "        \n",
    "        q[:, self.v.qrho] = U[:, self.v.urho]\n",
    "        q[:, self.v.qu] = U[:, self.v.umx] / U[:. self.v.urho]\n",
    "        \n",
    "        rhoe = U[:, self.v.uener] - 0.5 * q[:, self.v.qu]**2\n",
    "        q[:, self.v.qp] = rhoe * (self.gamma - 1.0)\n",
    "        \n",
    "        return q\n",
    "\n",
    "    def interface_states(self):\n",
    "\n",
    "        # compute flattening\n",
    "\n",
    "        # construct parabola\n",
    "\n",
    "        # loop over zones\n",
    "\n",
    "        # build eigensystem\n",
    "\n",
    "        # trace states\n",
    "\n",
    "\n",
    "    def advance(self):\n",
    "\n",
    "        # convert to primitive variables\n",
    "\n",
    "        # construct interface states\n",
    "\n",
    "        # solve Riemann problem\n",
    "\n",
    "        # construct fluxes\n",
    "\n",
    "        # conservative update\n",
    "\n",
    "\n"
   ]
  },
  {
   "cell_type": "code",
   "execution_count": 5,
   "id": "c0c158f7-ab1f-412d-9447-4fa7600980bf",
   "metadata": {},
   "outputs": [
    {
     "ename": "NameError",
     "evalue": "name 'rho' is not defined",
     "output_type": "error",
     "traceback": [
      "\u001b[0;31m---------------------------------------------------------------------------\u001b[0m",
      "\u001b[0;31mNameError\u001b[0m                                 Traceback (most recent call last)",
      "Cell \u001b[0;32mIn[5], line 1\u001b[0m\n\u001b[0;32m----> 1\u001b[0m \u001b[43mrho\u001b[49m\n",
      "\u001b[0;31mNameError\u001b[0m: name 'rho' is not defined"
     ]
    }
   ],
   "source": [
    "rho"
   ]
  },
  {
   "cell_type": "code",
   "execution_count": 6,
   "id": "dc57ef9f-5a5c-4cc0-a3aa-e3c87fd983ce",
   "metadata": {},
   "outputs": [
    {
     "data": {
      "text/plain": [
       "<Prim.rho: 1>"
      ]
     },
     "execution_count": 6,
     "metadata": {},
     "output_type": "execute_result"
    }
   ],
   "source": [
    "Prim.rho"
   ]
  },
  {
   "cell_type": "code",
   "execution_count": null,
   "id": "8f45fbfd-784f-43ec-a3d3-eb061ad019c1",
   "metadata": {},
   "outputs": [],
   "source": []
  }
 ],
 "metadata": {
  "kernelspec": {
   "display_name": "Python 3 (ipykernel)",
   "language": "python",
   "name": "python3"
  },
  "language_info": {
   "codemirror_mode": {
    "name": "ipython",
    "version": 3
   },
   "file_extension": ".py",
   "mimetype": "text/x-python",
   "name": "python",
   "nbconvert_exporter": "python",
   "pygments_lexer": "ipython3",
   "version": "3.12.4"
  }
 },
 "nbformat": 4,
 "nbformat_minor": 5
}
