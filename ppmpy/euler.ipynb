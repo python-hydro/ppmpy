{
 "cells": [
  {
   "cell_type": "code",
   "execution_count": 1,
   "id": "c9e6fad1-4184-4dad-a6e4-3920d276f4c7",
   "metadata": {},
   "outputs": [],
   "source": [
    "import numpy as np\n",
    "\n",
    "from euler import Euler"
   ]
  },
  {
   "cell_type": "code",
   "execution_count": 2,
   "id": "8f45fbfd-784f-43ec-a3d3-eb061ad019c1",
   "metadata": {},
   "outputs": [],
   "source": [
    "def sod(g, v, gamma, U):\n",
    "    \n",
    "    # setup initial conditions -- this is Sod's problem\n",
    "    rho_l = 1.0\n",
    "    u_l = 0.0\n",
    "    p_l = 1.0\n",
    "    rho_r = 0.125\n",
    "    u_r = 0.0\n",
    "    p_r = 0.1\n",
    "\n",
    "    idx_l = g.x < 0.5\n",
    "    idx_r = g.x >= 0.5\n",
    "\n",
    "    U[idx_l, v.urho] = rho_l\n",
    "    U[idx_l, v.umx] =  rho_l * u_l\n",
    "    U[idx_l, v.uener] = p_l/(gamma - 1.0) + 0.5 * rho_l * u_l**2\n",
    "\n",
    "    U[idx_r, v.urho] = rho_r\n",
    "    U[idx_r, v.umx] =  rho_r * u_r\n",
    "    U[idx_r, v.uener] = p_r/(gamma - 1.0) + 0.5 * rho_r * u_r**2"
   ]
  },
  {
   "cell_type": "code",
   "execution_count": 3,
   "id": "459e3650-132c-40e8-8827-025f20f3dfce",
   "metadata": {},
   "outputs": [
    {
     "data": {
      "text/plain": [
       "0.003301383807533268"
      ]
     },
     "execution_count": 3,
     "metadata": {},
     "output_type": "execute_result"
    }
   ],
   "source": [
    "e = Euler(128, 0.5, init_cond=sod)\n",
    "e.estimate_dt()\n",
    "e.dt"
   ]
  },
  {
   "cell_type": "code",
   "execution_count": 4,
   "id": "5cc163ad-b664-4d93-b962-d64696bfc902",
   "metadata": {},
   "outputs": [
    {
     "data": {
      "text/plain": [
       "array([0.00000000e+00, 0.00000000e+00, 0.00000000e+00, 0.00000000e+00,\n",
       "       0.00000000e+00, 0.00000000e+00, 0.00000000e+00, 0.00000000e+00,\n",
       "       0.00000000e+00, 0.00000000e+00, 0.00000000e+00, 0.00000000e+00,\n",
       "       0.00000000e+00, 0.00000000e+00, 0.00000000e+00, 0.00000000e+00,\n",
       "       0.00000000e+00, 0.00000000e+00, 0.00000000e+00, 0.00000000e+00,\n",
       "       0.00000000e+00, 0.00000000e+00, 0.00000000e+00, 0.00000000e+00,\n",
       "       0.00000000e+00, 0.00000000e+00, 0.00000000e+00, 0.00000000e+00,\n",
       "       0.00000000e+00, 0.00000000e+00, 0.00000000e+00, 0.00000000e+00,\n",
       "       0.00000000e+00, 0.00000000e+00, 0.00000000e+00, 0.00000000e+00,\n",
       "       0.00000000e+00, 0.00000000e+00, 0.00000000e+00, 0.00000000e+00,\n",
       "       0.00000000e+00, 0.00000000e+00, 0.00000000e+00, 0.00000000e+00,\n",
       "       0.00000000e+00, 0.00000000e+00, 0.00000000e+00, 0.00000000e+00,\n",
       "       0.00000000e+00, 0.00000000e+00, 0.00000000e+00, 0.00000000e+00,\n",
       "       0.00000000e+00, 0.00000000e+00, 0.00000000e+00, 0.00000000e+00,\n",
       "       0.00000000e+00, 0.00000000e+00, 0.00000000e+00, 0.00000000e+00,\n",
       "       0.00000000e+00, 0.00000000e+00, 0.00000000e+00, 0.00000000e+00,\n",
       "       0.00000000e+00, 0.00000000e+00, 0.00000000e+00, 0.00000000e+00,\n",
       "       3.95391071e-01, 7.34343506e-17, 0.00000000e+00, 0.00000000e+00,\n",
       "       0.00000000e+00, 0.00000000e+00, 0.00000000e+00, 0.00000000e+00,\n",
       "       0.00000000e+00, 0.00000000e+00, 0.00000000e+00, 0.00000000e+00,\n",
       "       0.00000000e+00, 0.00000000e+00, 0.00000000e+00, 0.00000000e+00,\n",
       "       0.00000000e+00, 0.00000000e+00, 0.00000000e+00, 0.00000000e+00,\n",
       "       0.00000000e+00, 0.00000000e+00, 0.00000000e+00, 0.00000000e+00,\n",
       "       0.00000000e+00, 0.00000000e+00, 0.00000000e+00, 0.00000000e+00,\n",
       "       0.00000000e+00, 0.00000000e+00, 0.00000000e+00, 0.00000000e+00,\n",
       "       0.00000000e+00, 0.00000000e+00, 0.00000000e+00, 0.00000000e+00,\n",
       "       0.00000000e+00, 0.00000000e+00, 0.00000000e+00, 0.00000000e+00,\n",
       "       0.00000000e+00, 0.00000000e+00, 0.00000000e+00, 0.00000000e+00,\n",
       "       0.00000000e+00, 0.00000000e+00, 0.00000000e+00, 0.00000000e+00,\n",
       "       0.00000000e+00, 0.00000000e+00, 0.00000000e+00, 0.00000000e+00,\n",
       "       0.00000000e+00, 0.00000000e+00, 0.00000000e+00, 0.00000000e+00,\n",
       "       0.00000000e+00, 0.00000000e+00, 0.00000000e+00, 0.00000000e+00,\n",
       "       0.00000000e+00, 0.00000000e+00, 0.00000000e+00, 0.00000000e+00,\n",
       "       0.00000000e+00, 0.00000000e+00, 0.00000000e+00, 0.00000000e+00])"
      ]
     },
     "execution_count": 4,
     "metadata": {},
     "output_type": "execute_result"
    }
   ],
   "source": [
    "q_left, q_right = e.interface_states()\n",
    "flux = e.compute_fluxes(q_left, q_right)\n",
    "flux[:, 0]"
   ]
  },
  {
   "cell_type": "code",
   "execution_count": 5,
   "id": "5b66ff16-6605-4744-bb10-8e61ba44772f",
   "metadata": {},
   "outputs": [],
   "source": [
    "#e.advance_step()\n",
    "#e.U"
   ]
  },
  {
   "cell_type": "code",
   "execution_count": 6,
   "id": "047a3117-45c8-4fca-b693-5f17b81a6fff",
   "metadata": {},
   "outputs": [
    {
     "name": "stdout",
     "output_type": "stream",
     "text": [
      "istep=1, self.t=0.003301383807533268, self.dt=0.003301383807533268\n",
      "istep=2, self.t=0.005324543732684983, self.dt=0.0020231599251517153\n",
      "istep=3, self.t=0.007172347003384348, self.dt=0.0018478032706993653\n",
      "istep=4, self.t=0.009199559464980514, self.dt=0.002027212461596165\n",
      "istep=5, self.t=0.01121140732642508, self.dt=0.002011847861444566\n",
      "istep=6, self.t=0.013175572723026958, self.dt=0.0019641653966018793\n",
      "istep=7, self.t=0.015133281691554895, self.dt=0.001957708968527938\n",
      "istep=8, self.t=0.01708308011464003, self.dt=0.0019497984230851364\n",
      "istep=9, self.t=0.01903454410495122, self.dt=0.0019514639903111869\n",
      "istep=10, self.t=0.020979056011054948, self.dt=0.0019445119061037295\n",
      "istep=11, self.t=0.02289386933452962, self.dt=0.0019148133234746733\n",
      "istep=12, self.t=0.02480880129087862, self.dt=0.0019149319563490004\n",
      "istep=13, self.t=0.026715208591718012, self.dt=0.0019064073008393907\n",
      "istep=14, self.t=0.02863011930162552, self.dt=0.0019149107099075055\n",
      "istep=15, self.t=0.030544185249899745, self.dt=0.0019140659482742258\n",
      "istep=16, self.t=0.032445002448025305, self.dt=0.00190081719812556\n",
      "istep=17, self.t=0.034317419066054795, self.dt=0.0018724166180294909\n",
      "istep=18, self.t=0.036194314276470886, self.dt=0.0018768952104160899\n",
      "istep=19, self.t=0.03806111689553496, self.dt=0.0018668026190640744\n",
      "istep=20, self.t=0.03993631772587878, self.dt=0.0018752008303438191\n",
      "istep=21, self.t=0.04181173480170639, self.dt=0.0018754170758276103\n",
      "istep=22, self.t=0.04368482636261785, self.dt=0.0018730915609114535\n",
      "istep=23, self.t=0.04553131502737939, self.dt=0.001846488664761545\n",
      "istep=24, self.t=0.04738269684257111, self.dt=0.0018513818151917193\n",
      "istep=25, self.t=0.049223979199183636, self.dt=0.0018412823566125206\n",
      "istep=26, self.t=0.05107144791434471, self.dt=0.0018474687151610728\n",
      "istep=27, self.t=0.05292028234540509, self.dt=0.001848834431060381\n",
      "istep=28, self.t=0.05476765220125122, self.dt=0.0018473698558461222\n",
      "istep=29, self.t=0.05659808161519787, self.dt=0.0018304294139466582\n",
      "istep=30, self.t=0.05843248612369129, self.dt=0.0018344045084934166\n",
      "istep=31, self.t=0.06025606709603194, self.dt=0.0018235809723406477\n",
      "istep=32, self.t=0.06208464565204434, self.dt=0.0018285785560123986\n",
      "istep=33, self.t=0.06391251467128721, self.dt=0.0018278690192428603\n",
      "istep=34, self.t=0.0657427684721596, self.dt=0.001830253800872391\n",
      "istep=35, self.t=0.06756154542780704, self.dt=0.0018187769556474412\n",
      "istep=36, self.t=0.06938426524764257, self.dt=0.001822719819835538\n",
      "istep=37, self.t=0.07119670414710358, self.dt=0.0018124388994609994\n",
      "istep=38, self.t=0.07301314541270068, self.dt=0.0018164412655970984\n",
      "istep=39, self.t=0.0748275812664614, self.dt=0.0018144358537607115\n",
      "istep=40, self.t=0.07664640238653785, self.dt=0.0018188211200764516\n",
      "istep=41, self.t=0.07845799156958613, self.dt=0.0018115891830482829\n",
      "istep=42, self.t=0.08027248978840541, self.dt=0.0018144982188192757\n",
      "istep=43, self.t=0.08207788191811717, self.dt=0.0018053921297117635\n",
      "istep=44, self.t=0.08388678247070037, self.dt=0.0018089005525832036\n",
      "istep=45, self.t=0.08569253629502162, self.dt=0.0018057538243212395\n",
      "istep=46, self.t=0.08750216468659927, self.dt=0.0018096283915776518\n",
      "istep=47, self.t=0.08930895944120111, self.dt=0.001806794754601834\n",
      "istep=48, self.t=0.09111699337756825, self.dt=0.0018080339363671309\n",
      "istep=49, self.t=0.09291756694029926, self.dt=0.0018005735627310171\n",
      "istep=50, self.t=0.09472080938830506, self.dt=0.0018032424480058022\n",
      "istep=51, self.t=0.09652051123957744, self.dt=0.0017997018512723915\n",
      "istep=52, self.t=0.09832350717333908, self.dt=0.001802995933761634\n",
      "istep=53, self.t=0.10012617090596433, self.dt=0.0018026637326252466\n",
      "istep=54, self.t=0.10192840595182799, self.dt=0.001802235045863655\n",
      "istep=55, self.t=0.10372536112556707, self.dt=0.0017969551737390802\n",
      "istep=56, self.t=0.10552437071858027, self.dt=0.0017990095930132035\n",
      "istep=57, self.t=0.10731972609858262, self.dt=0.001795355380002343\n",
      "istep=58, self.t=0.10911751638672235, self.dt=0.0017977902881397233\n",
      "istep=59, self.t=0.11091411549160357, self.dt=0.0017965991048812236\n",
      "istep=60, self.t=0.11271180093961931, self.dt=0.0017976854480157445\n",
      "istep=61, self.t=0.11450664918791827, self.dt=0.0017948482482989477\n",
      "istep=62, self.t=0.11630238514190427, self.dt=0.001795735953986011\n",
      "istep=63, self.t=0.11809461386734818, self.dt=0.001792228725443904\n",
      "istep=64, self.t=0.11988853696748128, self.dt=0.0017939231001330986\n",
      "istep=65, self.t=0.12168104025335444, self.dt=0.0017925032858731637\n",
      "istep=66, self.t=0.12347556431143628, self.dt=0.001794524058081841\n",
      "istep=67, self.t=0.12526791823361774, self.dt=0.0017923539221814664\n",
      "istep=68, self.t=0.12706110773507395, self.dt=0.001793189501456197\n",
      "istep=69, self.t=0.1288512078682337, self.dt=0.001790100133159752\n",
      "istep=70, self.t=0.1306422359323561, self.dt=0.0017910280641224106\n",
      "istep=71, self.t=0.13243164940406357, self.dt=0.0017894134717074683\n",
      "istep=72, self.t=0.1342226499575931, self.dt=0.0017910005535295074\n",
      "istep=73, self.t=0.13601336338464587, self.dt=0.001790713427052776\n",
      "istep=74, self.t=0.1378037678211845, self.dt=0.00179040443653863\n",
      "istep=75, self.t=0.1395920881700383, self.dt=0.0017883203488537835\n",
      "istep=76, self.t=0.1413810622108825, self.dt=0.0017889740408442152\n",
      "istep=77, self.t=0.14316853263299384, self.dt=0.0017874704221113424\n",
      "istep=78, self.t=0.14495701846238906, self.dt=0.001788485829395229\n",
      "istep=79, self.t=0.1467450363881803, self.dt=0.0017880179257912263\n",
      "istep=80, self.t=0.14853335828963746, self.dt=0.0017883219014571724\n",
      "istep=81, self.t=0.15032033343910134, self.dt=0.0017869751494638735\n",
      "istep=82, self.t=0.15210771142021007, self.dt=0.001787377981108726\n",
      "istep=83, self.t=0.15389364742035902, self.dt=0.0017859360001489615\n",
      "istep=84, self.t=0.1556803232253957, self.dt=0.0017866758050366783\n",
      "istep=85, self.t=0.1574664753349282, self.dt=0.001786152109532485\n",
      "istep=86, self.t=0.15925339131104138, self.dt=0.001786915976113201\n",
      "istep=87, self.t=0.16103930538725222, self.dt=0.0017859140762108562\n",
      "istep=88, self.t=0.16282561060618458, self.dt=0.0017863052189323507\n",
      "istep=89, self.t=0.16461053434490205, self.dt=0.0017849237387174714\n",
      "istep=90, self.t=0.1663959815525493, self.dt=0.001785447207647254\n",
      "istep=91, self.t=0.1681808408215086, self.dt=0.0017848592689592934\n",
      "istep=92, self.t=0.169966411675137, self.dt=0.001785570853628402\n",
      "istep=93, self.t=0.1717517302052898, self.dt=0.0017853185301527853\n",
      "istep=94, self.t=0.1735369716222693, self.dt=0.0017852414169795075\n",
      "istep=95, self.t=0.17532119716132247, self.dt=0.001784225539053155\n",
      "istep=96, self.t=0.17710578759305073, self.dt=0.0017845904317282738\n",
      "istep=97, self.t=0.17888975144886016, self.dt=0.0017839638558094172\n",
      "istep=98, self.t=0.18067423089147144, self.dt=0.0017844794426112923\n",
      "istep=99, self.t=0.18245860466587935, self.dt=0.0017843737744079006\n",
      "istep=100, self.t=0.1842430551160698, self.dt=0.001784450450190461\n",
      "istep=101, self.t=0.1860268227365172, self.dt=0.0017837676204473742\n",
      "istep=102, self.t=0.18781085306161596, self.dt=0.0017840303250987743\n",
      "istep=103, self.t=0.18959426310139554, self.dt=0.0017834100397795866\n",
      "istep=104, self.t=0.19137802873718263, self.dt=0.0017837656357870923\n",
      "istep=105, self.t=0.19316159436516966, self.dt=0.0017835656279870315\n",
      "istep=106, self.t=0.1949454727747204, self.dt=0.0017838784095507362\n",
      "istep=107, self.t=0.19672892595401203, self.dt=0.0017834531792916327\n",
      "istep=108, self.t=0.1985125551079192, self.dt=0.0017836291539071727\n",
      "istep=109, self.t=0.2, self.dt=0.0014874448920808025\n"
     ]
    }
   ],
   "source": [
    "e.evolve(0.2)"
   ]
  },
  {
   "cell_type": "code",
   "execution_count": 7,
   "id": "aaf1736d-8218-49f1-8435-d2e6033c1aa5",
   "metadata": {},
   "outputs": [],
   "source": [
    "import matplotlib.pyplot as plt"
   ]
  },
  {
   "cell_type": "code",
   "execution_count": 8,
   "id": "ef5a5155-4ec0-4e4e-8088-0084966e06d6",
   "metadata": {},
   "outputs": [
    {
     "data": {
      "text/plain": [
       "[<matplotlib.lines.Line2D at 0x7faa2c1862a0>]"
      ]
     },
     "execution_count": 8,
     "metadata": {},
     "output_type": "execute_result"
    },
    {
     "data": {
      "image/png": "[encoded data removed]",
      "text/plain": [
       "<Figure size 640x480 with 1 Axes>"
      ]
     },
     "metadata": {},
     "output_type": "display_data"
    }
   ],
   "source": [
    "fig, ax = plt.subplots()\n",
    "ax.plot(e.grid.x, e.U[:, 0])"
   ]
  },
  {
   "cell_type": "code",
   "execution_count": null,
   "id": "ce02e045-1f04-4ba9-8e59-3f00a0f6d174",
   "metadata": {},
   "outputs": [],
   "source": []
  },
  {
   "cell_type": "code",
   "execution_count": null,
   "id": "c444c7ed-a277-467a-9447-2102ebcd15ac",
   "metadata": {},
   "outputs": [],
   "source": []
  }
 ],
 "metadata": {
  "kernelspec": {
   "display_name": "Python 3 (ipykernel)",
   "language": "python",
   "name": "python3"
  },
  "language_info": {
   "codemirror_mode": {
    "name": "ipython",
    "version": 3
   },
   "file_extension": ".py",
   "mimetype": "text/x-python",
   "name": "python",
   "nbconvert_exporter": "python",
   "pygments_lexer": "ipython3",
   "version": "3.12.4"
  }
 },
 "nbformat": 4,
 "nbformat_minor": 5
}
