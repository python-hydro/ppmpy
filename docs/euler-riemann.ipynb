{
 "cells": [
  {
   "cell_type": "markdown",
   "metadata": {
    "slideshow": {
     "slide_type": "slide"
    },
    "tags": []
   },
   "source": [
    "# Euler Riemann Problem"
   ]
  },
  {
   "cell_type": "markdown",
   "metadata": {
    "slideshow": {
     "slide_type": "slide"
    }
   },
   "source": [
    "To compute the fluxes through the interface, we will need to solve the Riemann\n",
    "problem for the Euler equations.  We will formulate it such that we have\n",
    "left and right primitive variable states and we want to find the unique state on the interface:\n",
    "\n",
    "$${\\bf q}_{i+1/2} = \\mathcal{R}({\\bf q}_{i+1/2,L}, {\\bf q}_{i+1/2,R})$$\n",
    "\n",
    "Information about the jump across this interface will be carried away from the interface by the 3 hydrodynamic waves ($u$ and $u\\pm c$).  We can define 4 regions separated by the three waves, which we'll call $L$, $L_\\star$, $R_\\star$, and $R$.\n",
    "\n",
    "![Riemann solution structure](riemann-waves.png)\n",
    "\n",
    "We also know the following about the wave structure:\n",
    "\n",
    "* The middle wave is always a contact discontinuity.  Pressure and velocity are constant across it\n",
    "\n",
    "* The left and right waves are either a shock or rarefaction\n",
    "\n",
    "  * Rarefaction:\n",
    "  \n",
    "    * Entropy is constant across the wave\n",
    "    \n",
    "    * Riemann invariants tell us how to connect the solution across the wave to the star region\n",
    "    \n",
    "  * Shock:\n",
    "  \n",
    "    * Must be dissipative&mdash;entropy is not conserved\n",
    "    \n",
    "    * Jump conditions tell us how to connect to the star state across the shock\n",
    "\n",
    "We see that:\n",
    "\n",
    "* $L$ and $R$ are just our original states&mdash;since no waves have reached them yet, the state is unchanged.\n",
    "\n",
    "* The star states are between the left and right state.\n",
    "\n",
    "  * We know from the eigenvectors that all 3 primitive variables, $(\\rho, u, p)$ jump across the left and right state. \n",
    "  \n",
    "  * From the center eigenvector, we know only the density jumps.  That means in the star region, the only unknowns are:\n",
    "\n",
    "    $$u_\\star, p_\\star, \\rho_{\\star,L}, \\rho_{\\star,R}$$"
   ]
  },
  {
   "cell_type": "markdown",
   "metadata": {
    "slideshow": {
     "slide_type": "slide"
    }
   },
   "source": [
    "## Finding the star state\n",
    "\n",
    "Our first goal is to find the star state.  To do this,\n",
    "we need to know how much each variable changes across each of the three waves.  To complicate matters, the left and right waves can be either shocks or rarefactions.  \n",
    "For a gamma-law gas, we can write down analytic expressions for the change in the primitive variables across both a rarefaction and shock.  We can then solve these to find the state in-between the left and right waves&mdash;the star state."
   ]
  },
  {
   "cell_type": "markdown",
   "metadata": {},
   "source": [
    "### Shock jump conditions\n",
    "\n",
    "For the case where the left or right wave is a shock, we use the Rankine-Hugoniot jump conditions to connect the states across the wave.  The generalized version of the jump conditions for a system is:\n",
    "\n",
    "$$\\frac{\\bf{F}({\\bf U}_\\star) - {\\bf F}({\\bf U_s})}{{\\bf U}_\\star - {\\bf U}_s} = S$$\n",
    "\n",
    "where $s \\in [L, R]$ is the state to the left or right of the interface and $S$ is the shock speed.\n",
    "\n",
    "\n",
    "We can write the jump conditions in the frame of the shock as (for the left wave).  Then:\n",
    "\n",
    "\\begin{align*}\n",
    "\\rho_L \\hat{u}_L &= \\rho_\\star \\hat{u}_\\star \\\\\n",
    "\\rho_L \\hat{u}_L^2 + p_L &= \\rho_\\star {\\hat{u}_\\star}^2 + p_\\star \\\\\n",
    "\\rho_L e_L \\hat{u}_L + p_L \\hat{u}_L + \\frac{1}{2} \\rho_L \\hat{u}_L^3 &=\n",
    "       \\rho_\\star e_\\star \\hat{u}_\\star + p_\\star \\hat{u}_\\star + \\frac{1}{2}\\rho_\\star {\\hat{u}_\\star}^3\n",
    "\\end{align*}\n",
    "\n",
    "where $\\hat{u} = u - S$ (for both the $\\star$ and $L$ velocity), and $S$ is the shock speed."
   ]
  },
  {
   "cell_type": "markdown",
   "metadata": {},
   "source": [
    "With a lot of algebra, you can find the relation of $u_\\star$ to $u_L$ as:\n",
    "\n",
    "$$u_\\star = u_L + \\frac{2 c_L}{\\sqrt{2 \\gamma(\\gamma-1)}} \\frac{1 - \\frac{p_\\star}{p_L}}{\\sqrt{1 + \\frac{\\gamma + 1}{\\gamma -1} \\frac{p_\\star}{p_L}}}$$\n",
    "\n",
    "and similarly for a shock across the right wave:\n",
    "\n",
    "$$u_\\star = u_R - \\frac{2 c_R}{\\sqrt{2 \\gamma(\\gamma-1)}} \\frac{1 - \\frac{p_\\star}{p_R}}{\\sqrt{1 + \\frac{\\gamma + 1}{\\gamma -1} \\frac{p_\\star}{p_R}}}$$"
   ]
  },
  {
   "cell_type": "markdown",
   "metadata": {
    "tags": []
   },
   "source": [
    "### Shock speed\n",
    "\n",
    "Likewise, we can find the shock speed for the gamma-law case, via the mass flux condition\n",
    "across the shock, giving:\n",
    "\n",
    "$$S = u_R + c_R \\sqrt{\\frac{\\gamma + 1}{2\\gamma} \\left (\\frac{p_\\star}{p_R} \\right ) + \\frac{\\gamma -1}{2\\gamma}}$$"
   ]
  },
  {
   "cell_type": "markdown",
   "metadata": {},
   "source": [
    "### Rarefaction solution\n",
    "\n",
    "To understand a rarefaction, let's replace the pressure equation in our system with an entropy equation.  Entropy evolves according to:\n",
    "\n",
    "$$\\frac{Ds}{Dt} = 0$$\n",
    "\n",
    "but now we need to replace the pressure gradient in the momentum equation:\n",
    "\n",
    "$$\\frac{\\partial p(\\rho, s)}{\\partial x} = \n",
    "  \\left . \\frac{\\partial p}{\\partial s} \\right |_\\rho \\frac{\\partial s}{\\partial x} +\n",
    "  \\left . \\frac{\\partial p}{\\partial \\rho} \\right |_s \\frac{\\partial \\rho}{\\partial x}\n",
    "=\n",
    "  \\left . \\frac{\\partial p}{\\partial s} \\right |_\\rho \\frac{\\partial s}{\\partial x} +\n",
    "  \\frac{p\\Gamma_1}{\\rho} \\frac{\\partial \\rho}{\\partial x}\n",
    "$$\n",
    "\n",
    "and our system becomes:\n",
    "\n",
    "$$\n",
    "\\left ( \\begin{array}{c} \\rho \\\\ u \\\\ s \\end{array} \\right )_t +\n",
    "     \\left ( \\begin{array}{ccc} u & \\rho & 0 \\\\\n",
    "                                c^2/\\rho & u & \\frac{p_s}{\\rho}\\\\\n",
    "                                0 & 0 & u \\end{array} \\right )\n",
    "\\left ( \\begin{array}{c} \\rho \\\\ u \\\\ s \\end{array} \\right )_x\n",
    "$$\n",
    "\n",
    "with $p_s = \\partial p / \\partial s |_\\rho$.\n",
    "This has the same eigenvalues as our primitive variable system, but now the right eigenvectors are:\n",
    "\n",
    "$$\n",
    "{\\bf r}^{(-)} = \\left (\\begin{array}{c} 1 \\\\ -c/\\rho \\\\ 0 \\end{array} \\right )\n",
    "\\qquad\n",
    "{\\bf r}^{(0)} = \\left (\\begin{array}{c} 1 \\\\ 0 \\\\ -c^2 / p_s \\end{array} \\right )\n",
    "\\qquad\n",
    "{\\bf r}^{(+)} = \\left (\\begin{array}{c} 1 \\\\ c/\\rho \\\\ 0 \\end{array} \\right )\n",
    "$$\n",
    "\n",
    "We see that entropy is constant across a rarefaction.  We can use this to find the solution linking\n",
    "the states across a rarefaction."
   ]
  },
  {
   "cell_type": "markdown",
   "metadata": {},
   "source": [
    "```{note}\n",
    "We can only use this system when describing rarefactions.  Shocks are dissipative, so entropy will increase across them.\n",
    "```"
   ]
  },
  {
   "cell_type": "markdown",
   "metadata": {},
   "source": [
    "We'll work back with the primitive variables now.\n",
    "Across the left wave ('$-$' ), the characteristic variable $w^{(+)}$ is constant, which is defined as:\n",
    "\n",
    "$${\\bf l}^{(+)} \\cdot d{\\bf q} = 0$$\n",
    "\n",
    "Finding the left eigenvalue and doing the dot product gives:\n",
    "\n",
    "$$du + \\frac{dp}{\\rho c} = 0$$\n",
    "\n",
    "across the left wave.  The general solution to this is:\n",
    "\n",
    "$$u = - \\int \\frac{dp}{\\rho c}$$\n"
   ]
  },
  {
   "cell_type": "markdown",
   "metadata": {},
   "source": [
    "For a gamma-law equation of state, constant entropy means:\n",
    "\n",
    "$$p = K \\rho^\\gamma$$\n",
    "\n",
    "and we can do the integral and we find:\n",
    "\n",
    "$$u + \\frac{2c}{\\gamma - 1} = \\mbox{constant}$$\n",
    "\n",
    "Similarly across the right wave we find:\n",
    "\n",
    "$$u - \\frac{2c}{\\gamma - 1} = \\mbox{constant}$$\n",
    "\n",
    "These are called the *Riemann invariants*.\n",
    "\n",
    "We can use these to link the states across the rarefaction, and we find:\n",
    "\n",
    "$$u_\\star = u_L + \\frac{2 c_L}{\\gamma - 1} \\left [ 1 - \\left ( \\frac{p_\\star}{p_L} \\right )^{(\\gamma-1)/2\\gamma} \\right ]$$\n",
    "\n",
    "for the left rarefaction, and \n",
    "\n",
    "$$u_\\star = u_R - \\frac{2 c_R}{\\gamma - 1} \\left [ 1 - \\left ( \\frac{p_\\star}{p_R} \\right )^{(\\gamma-1)/2\\gamma} \\right ]$$\n",
    "\n",
    "for the right rarefaction."
   ]
  },
  {
   "cell_type": "markdown",
   "metadata": {},
   "source": [
    "### Implementation"
   ]
  },
  {
   "cell_type": "code",
   "execution_count": 1,
   "metadata": {
    "tags": []
   },
   "outputs": [],
   "source": [
    "import matplotlib.pyplot as plt\n",
    "import numpy as np\n",
    "from ppmpy import RiemannProblem, State"
   ]
  },
  {
   "cell_type": "markdown",
   "metadata": {
    "slideshow": {
     "slide_type": "slide"
    }
   },
   "source": [
    "`ppmpy` provides a `State` class that holds the left or right interface state and the `RiemannProject` class that implements the Riemann problem, with methods to find the star state and then find the state on the interface."
   ]
  },
  {
   "cell_type": "markdown",
   "metadata": {},
   "source": [
    "The `find_star_state()` method solves for the star state.  This needs to find the $p_\\star$ such that:\n",
    "\n",
    "$$u_{\\star,L}(p_\\star) = u_{\\star,R}(p_\\star)$$\n",
    "\n",
    "If $p_\\star > p_s$, for $s \\in {L, R}$, then we are a shock (compression), otherwise we are a rarefaction.  So our functions are:\n",
    "\n",
    "$$\n",
    "u_{\\star,L}(p_\\star) = u_L + \\left \\{ \\begin{array}{cc} \n",
    "\\frac{2 c_L}{\\sqrt{2 \\gamma (\\gamma -1)}} \\frac{1 - {p_\\star}/{p_L}}{\\sqrt{1 + \\frac{\\gamma+1}{\\gamma-1} \\frac{p_\\star}{p_L}} } & p_\\star > p_L \\\\[4 mm]\n",
    "\\frac{2 c_L}{\\gamma -1} \\left [ 1 - \\left ( {p_\\star}/{p_L} \\right )^{(\\gamma-1)/(2\\gamma)} \\right ]\n",
    " & p_\\star \\le p_L \\end{array} \\right .\n",
    " $$\n",
    " \n",
    "and\n",
    "\n",
    "$$\n",
    "u_{\\star,R}(p_\\star) = u_R - \\left \\{ \\begin{array}{cc} \n",
    "\\frac{2 c_R}{\\sqrt{2 \\gamma (\\gamma -1)}} \\frac{1 - {p_\\star}/{p_R}}{\\sqrt{1 + \\frac{\\gamma+1}{\\gamma-1} \\frac{p_\\star}{p_R}} } & p_\\star > p_R \\\\[4 mm]\n",
    "\\frac{2 c_R}{\\gamma -1} \\left [ 1 - \\left ( {p_\\star}/{p_R} \\right )^{(\\gamma-1)/(2\\gamma)} \\right ]\n",
    " & p_\\star \\le p_R \\end{array} \\right .\n",
    "$$\n",
    "\n",
    "We solve this by picking a guess for $p_\\star$ and then root finding on the constraint that the velocity in the star region is the same when we come from the left as when we come from the right."
   ]
  },
  {
   "cell_type": "markdown",
   "metadata": {},
   "source": [
    "Let's consider the Sod problem.  We can visualize the solution in the $u$-$p$ plane via the `plot_hugoniot()` method."
   ]
  },
  {
   "cell_type": "code",
   "execution_count": 2,
   "metadata": {},
   "outputs": [],
   "source": [
    "from ppmpy.riemann_exact import plot_hugoniot"
   ]
  },
  {
   "cell_type": "code",
   "execution_count": 3,
   "metadata": {},
   "outputs": [
    {
     "data": {
      "image/png": "[encoded data removed]",
      "text/plain": [
       "<Figure size 960x720 with 1 Axes>"
      ]
     },
     "metadata": {},
     "output_type": "display_data"
    }
   ],
   "source": [
    "left = State(p=1.0, u=0.0, rho=1.0)\n",
    "right = State(p=0.1, u=0.0, rho=0.125)\n",
    "\n",
    "rp = RiemannProblem(left, right)\n",
    "rp.find_star_state()\n",
    "\n",
    "fig = plot_hugoniot(rp)"
   ]
  },
  {
   "cell_type": "markdown",
   "metadata": {},
   "source": [
    "In this figure, a shock is shown as a solid line and a rarefaction is shown as a dotted line.  The solution is where the curves intersect, and we see that the a shock connects the right state to the star state and a rarefaction connects the left state to the star state."
   ]
  },
  {
   "cell_type": "markdown",
   "metadata": {},
   "source": [
    "## Sampling the Solution"
   ]
  },
  {
   "cell_type": "markdown",
   "metadata": {},
   "source": [
    "To find the interface state, we need to sample the solution.  This is done via the `sample_solution()` method."
   ]
  },
  {
   "cell_type": "markdown",
   "metadata": {},
   "source": [
    "Consider the following 4 cases:\n",
    "\n",
    "![Riemann state](riemann_state.png)"
   ]
  },
  {
   "cell_type": "markdown",
   "metadata": {},
   "source": [
    "Cases (a) and (d) represent supersonic flow to the left or right&mdash;all 3 waves are on one side of the interface.\n",
    "\n",
    "* For case (a), all 3 waves are to the left of the interface, so state $R$ is on the interface.\n",
    "\n",
    "* For case (d) is similar, all 3 waves are to the right of the interface, so state $L$ is on the interface.\n",
    "\n",
    "In cases (b) and (c), one the \"$+$\" and \"$-$\" waves are on either side of the interface and the only difference is the center (\"$0$\") wave, or contact discontinuity.  So we would determine which of the star states is on the interface based on the sign of the contact discontinuity's speed.  \n",
    "\n",
    "* For case (b), the contact is moving to the left so $R_\\star$ state is on the interface\n",
    "\n",
    "* For case (c), the contact is moving to the right, so the $L_\\star$ state is on the interface."
   ]
  },
  {
   "cell_type": "markdown",
   "metadata": {},
   "source": [
    "### Wave speeds\n",
    "\n",
    "#### Shock case\n",
    "\n",
    "For a shock, the speed of the shock comes from the Rankine-Hugoniot conditions.\n",
    "\n",
    "For the left wave, the shock speed is:\n",
    "\n",
    "$$\n",
    "S = u_L - c_L \\sqrt{\\frac{\\gamma + 1}{2\\gamma} \\left (\\frac{p_\\star}{p_L} \\right ) + \\frac{\\gamma -1}{2\\gamma}}\n",
    "$$\n",
    "\n",
    "For the right wave, it is:\n",
    "\n",
    "$$\n",
    "S = u_R + c_R \\sqrt{\\frac{\\gamma + 1}{2\\gamma} \\left (\\frac{p_\\star}{p_R} \\right ) + \\frac{\\gamma -1}{2\\gamma}}\n",
    "$$"
   ]
  },
  {
   "cell_type": "markdown",
   "metadata": {},
   "source": [
    "#### Contact discontinuity\n",
    "\n",
    "A contact discontinuity propagates in the star region, and the velocity there is $u_\\star$ and is constant in that region, so the contact just propagates at this speed:\n",
    "\n",
    "$$S_0 = u_\\star$$"
   ]
  },
  {
   "cell_type": "markdown",
   "metadata": {},
   "source": [
    "### Rarefaction\n",
    "\n",
    "A rarefaction is subsonic, but it is spread out (it is not a discontinuity).  We call the leading part the \"head\" and the trailing part the \"tail\".  The head and tail move at different speeds, just $u \\pm c$ corresponding to the region they abut.\n",
    "\n",
    "For a left rarefaction:\n",
    "\n",
    "$$S_\\mathrm{head} = u_L - c_L$$\n",
    "$$S_\\mathrm{tail} = u_\\star - c_\\star$$\n",
    "\n",
    "For a right rarefaction:\n",
    "\n",
    "$$S_\\mathrm{head} = u_R + c_R$$\n",
    "$$S_\\mathrm{tail} = u_\\star + c_\\star$$\n",
    "\n",
    "Note that $|S_\\mathrm{head}| > |S_\\mathrm{tail}|$, so the rarefaction spreads out over time. \n",
    "\n",
    "Also, it is possible for the rarefaction to span the interface&mdash;with the head on one side and the tail on the other.  We'll deal with this shortly."
   ]
  },
  {
   "cell_type": "markdown",
   "metadata": {},
   "source": [
    "#### Density\n",
    "\n",
    "To compute the rarefaction speed, we need to know the density in the star state (so we can evaluate $c_\\star$).  We will need this anyway for either a shock or a rarefaction to compute the final fluxes if a star state is on the interface.\n",
    "\n",
    "For a rarefaction, since entropy is constant, we have:\n",
    "\n",
    "$$\\frac{p_s}{\\rho_s^\\gamma} = \\frac{p_\\star}{\\rho_{\\star,s}^\\gamma}$$\n",
    "\n",
    "where $s \\in {L, R}$ is the state outside of the star region.\n",
    "\n",
    "For a shock, the jump conditions tell us the density:\n",
    "\n",
    "$$\\rho_{\\star,s} = {\\rho_s} \\frac{\\frac{p_\\star}{p_s} + \\frac{\\gamma-1}{\\gamma+1}}{\\frac{p_\\star}{p_s}\\frac{\\gamma-1}{\\gamma+1} + 1}$$\n"
   ]
  },
  {
   "cell_type": "markdown",
   "metadata": {},
   "source": [
    "### Sampling\n",
    "\n",
    "The sampling procedure is the following:\n",
    "\n",
    "* Look at the sign of the contact speed, $S_0$:\n",
    "\n",
    "  * If $S_0 > 0$ then we are either in the $L$ or $L_\\star$ state\n",
    "  \n",
    "    * Look at the speed of the left shock or rarefaction to determine\n",
    "      if we are in the $L$ or $L_\\star$ state\n",
    "\n",
    "  * If $S_0 < 0$ then we are either in the $R$ or $R_\\star$ state\n",
    "\n",
    "    * Look at the speed of the right shock or rarefaction to determine\n",
    "      if we are in the $R$ or $R_\\star$ state\n",
    "\n",
    "The one catch is when the rarefaction spans the interface, e.g., $S_\\mathrm{head} < 0 < S_\\mathrm{tail}$ for a left rarefaction.\n",
    "\n",
    "![rarefaction spanning the interface](rarefaction_span.png)\n",
    "\n",
    "In this case, we would use the Riemann invariant to find the state at the location of the interface inside the structure of the rarefaction."
   ]
  },
  {
   "cell_type": "code",
   "execution_count": 5,
   "metadata": {},
   "outputs": [
    {
     "name": "stdout",
     "output_type": "stream",
     "text": [
      "rho: 0.4263194281784952; u: 0.9274526200489498; p: 0.30313017805064685\n"
     ]
    }
   ],
   "source": [
    "qint = rp.sample_solution()\n",
    "print(qint)"
   ]
  },
  {
   "cell_type": "markdown",
   "metadata": {},
   "source": [
    "This state can then be used to compute the fluxes through the interface:\n",
    "\n",
    "$$F_{i+1/2} = \\left ( \\begin{array}{c}\n",
    "                             \\rho_{i+1/2} u_{i+1/2} \\\\\n",
    "                             \\rho_{i+1/2} (u_{i+1/2})^2 + p_{i+1/2} \\\\\n",
    "                             u_{i+1/2} p_{i+1/2} / (\\gamma - 1)  +\n",
    "                             \\frac{1}{2} \\rho_{i+1/2} (u_{i+1/2})^3 +\n",
    "                             u_{i+1/2} p_{i+1/2}\n",
    "                            \\end{array} \\right )$$"
   ]
  }
 ],
 "metadata": {
  "kernelspec": {
   "display_name": "Python 3 (ipykernel)",
   "language": "python",
   "name": "python3"
  },
  "language_info": {
   "codemirror_mode": {
    "name": "ipython",
    "version": 3
   },
   "file_extension": ".py",
   "mimetype": "text/x-python",
   "name": "python",
   "nbconvert_exporter": "python",
   "pygments_lexer": "ipython3",
   "version": "3.12.4"
  }
 },
 "nbformat": 4,
 "nbformat_minor": 4
}
